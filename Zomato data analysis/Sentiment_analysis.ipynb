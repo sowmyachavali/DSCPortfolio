{
 "cells": [
  {
   "cell_type": "markdown",
   "metadata": {},
   "source": [
    "###### Sentiment Analysis"
   ]
  },
  {
   "cell_type": "code",
   "execution_count": 88,
   "metadata": {},
   "outputs": [],
   "source": [
    "import tweepy           # Accessing Twitter's API\n",
    "import pandas as pd     # To manipulate dataset\n",
    "import numpy as np      # Used for statistical computation"
   ]
  },
  {
   "cell_type": "code",
   "execution_count": 89,
   "metadata": {},
   "outputs": [],
   "source": [
    "# For plotting and visualization\n",
    "from IPython.display import display\n",
    "import matplotlib.pyplot as plt\n",
    "import seaborn as sns"
   ]
  },
  {
   "cell_type": "code",
   "execution_count": 90,
   "metadata": {},
   "outputs": [],
   "source": [
    "consumer_key = 'KUMGIFXqLSLGLsr96JGWhVdwT'\n",
    "consumer_secret = 'J5Igms3vZqq4JwJsTzw3qDUXDxDYD51r3g4l9zkiuZHVlRHs6t'\n",
    "access_token = '275679909-vT2blBl9d0ldtiJJZR2EvvWbcWS0Yudi4jBOtCM6'\n",
    "access_secret = '8DdHvBx1S7VHrZNbHvLRgKwvpJYq0JFwWKmZSDAz3nevL'"
   ]
  },
  {
   "cell_type": "code",
   "execution_count": 91,
   "metadata": {},
   "outputs": [],
   "source": [
    "def twitter_setup():\n",
    "\n",
    "    # Authentication and access using keys:\n",
    "    auth = tweepy.OAuthHandler(consumer_key, consumer_secret)\n",
    "    auth.set_access_token(access_token, access_secret)\n",
    "\n",
    "    # Return API with authentication:\n",
    "    api = tweepy.API(auth)\n",
    "    return api\n",
    "\n",
    "extractor = twitter_setup()"
   ]
  },
  {
   "cell_type": "code",
   "execution_count": 92,
   "metadata": {},
   "outputs": [
    {
     "name": "stdout",
     "output_type": "stream",
     "text": [
      "Total tweets extracted: 190.\n",
      "\n"
     ]
    }
   ],
   "source": [
    "# We create a tweet list as follows:\n",
    "tweets = extractor.user_timeline(screen_name=\"zomato\", count=198)\n",
    "print(\"Total tweets extracted: {}.\\n\".format(len(tweets)))"
   ]
  },
  {
   "cell_type": "code",
   "execution_count": 93,
   "metadata": {},
   "outputs": [
    {
     "name": "stdout",
     "output_type": "stream",
     "text": [
      "5 recent tweets:\n",
      "\n",
      "taking over 150,000 steps to end the pandemic💉 https://t.co/uC1Sxd3icr\n",
      "one indian dish that you wish had no calories?\n",
      "@it_is_not_me_47 https://t.co/cvEeBiErPF\n",
      "yes buy the dips saath mein fries mat bhoolna\n",
      "the very first restaurant that you'd visit once things are back to normal?\n"
     ]
    }
   ],
   "source": [
    "# We print the most recent 5 tweets:\n",
    "print(\"5 recent tweets:\\n\")\n",
    "for tweet in tweets[:5]:\n",
    "    print(tweet.text)"
   ]
  },
  {
   "cell_type": "code",
   "execution_count": 94,
   "metadata": {},
   "outputs": [
    {
     "data": {
      "text/html": [
       "<div>\n",
       "<style scoped>\n",
       "    .dataframe tbody tr th:only-of-type {\n",
       "        vertical-align: middle;\n",
       "    }\n",
       "\n",
       "    .dataframe tbody tr th {\n",
       "        vertical-align: top;\n",
       "    }\n",
       "\n",
       "    .dataframe thead th {\n",
       "        text-align: right;\n",
       "    }\n",
       "</style>\n",
       "<table border=\"1\" class=\"dataframe\">\n",
       "  <thead>\n",
       "    <tr style=\"text-align: right;\">\n",
       "      <th></th>\n",
       "      <th>Tweets</th>\n",
       "    </tr>\n",
       "  </thead>\n",
       "  <tbody>\n",
       "    <tr>\n",
       "      <th>0</th>\n",
       "      <td>taking over 150,000 steps to end the pandemic💉...</td>\n",
       "    </tr>\n",
       "    <tr>\n",
       "      <th>1</th>\n",
       "      <td>one indian dish that you wish had no calories?</td>\n",
       "    </tr>\n",
       "    <tr>\n",
       "      <th>2</th>\n",
       "      <td>@it_is_not_me_47 https://t.co/cvEeBiErPF</td>\n",
       "    </tr>\n",
       "    <tr>\n",
       "      <th>3</th>\n",
       "      <td>yes buy the dips saath mein fries mat bhoolna</td>\n",
       "    </tr>\n",
       "    <tr>\n",
       "      <th>4</th>\n",
       "      <td>the very first restaurant that you'd visit onc...</td>\n",
       "    </tr>\n",
       "    <tr>\n",
       "      <th>5</th>\n",
       "      <td>think we watched the wrong aspirants https://t...</td>\n",
       "    </tr>\n",
       "    <tr>\n",
       "      <th>6</th>\n",
       "      <td>@KFC_India @swiggy_in the credit goes to deliv...</td>\n",
       "    </tr>\n",
       "    <tr>\n",
       "      <th>7</th>\n",
       "      <td>just a tweet praying for the well-being of str...</td>\n",
       "    </tr>\n",
       "    <tr>\n",
       "      <th>8</th>\n",
       "      <td>the one we can't compete with\\n#happymothersda...</td>\n",
       "    </tr>\n",
       "    <tr>\n",
       "      <th>9</th>\n",
       "      <td>we understand. we are just as tired of the sit...</td>\n",
       "    </tr>\n",
       "  </tbody>\n",
       "</table>\n",
       "</div>"
      ],
      "text/plain": [
       "                                              Tweets\n",
       "0  taking over 150,000 steps to end the pandemic💉...\n",
       "1     one indian dish that you wish had no calories?\n",
       "2           @it_is_not_me_47 https://t.co/cvEeBiErPF\n",
       "3      yes buy the dips saath mein fries mat bhoolna\n",
       "4  the very first restaurant that you'd visit onc...\n",
       "5  think we watched the wrong aspirants https://t...\n",
       "6  @KFC_India @swiggy_in the credit goes to deliv...\n",
       "7  just a tweet praying for the well-being of str...\n",
       "8  the one we can't compete with\\n#happymothersda...\n",
       "9  we understand. we are just as tired of the sit..."
      ]
     },
     "execution_count": 94,
     "metadata": {},
     "output_type": "execute_result"
    }
   ],
   "source": [
    "data = pd.DataFrame(data=[tweet.text for tweet in tweets], columns=['Tweets'])\n",
    "data.head(10)"
   ]
  },
  {
   "cell_type": "code",
   "execution_count": 95,
   "metadata": {},
   "outputs": [],
   "source": [
    "data['len']  = np.array([len(tweet.text) for tweet in tweets])\n",
    "data['ID']   = np.array([tweet.id for tweet in tweets])\n",
    "data['Date'] = np.array([tweet.created_at for tweet in tweets])\n",
    "data['Source'] = np.array([tweet.source for tweet in tweets])\n",
    "data['Likes']  = np.array([tweet.favorite_count for tweet in tweets])\n",
    "data['RTs']    = np.array([tweet.retweet_count for tweet in tweets])"
   ]
  },
  {
   "cell_type": "code",
   "execution_count": 96,
   "metadata": {},
   "outputs": [],
   "source": [
    "fav_max = np.max(data['Likes'])\n",
    "rt_max  = np.max(data['RTs'])"
   ]
  },
  {
   "cell_type": "code",
   "execution_count": 97,
   "metadata": {},
   "outputs": [],
   "source": [
    "fav = data[data.Likes == fav_max].index[0]\n",
    "rt  = data[data.RTs == rt_max].index[0]"
   ]
  },
  {
   "cell_type": "markdown",
   "metadata": {},
   "source": [
    "Max FAVs:"
   ]
  },
  {
   "cell_type": "code",
   "execution_count": 98,
   "metadata": {},
   "outputs": [
    {
     "name": "stdout",
     "output_type": "stream",
     "text": [
      "Most Liked Tweet: \n",
      "deliveries in Indiranagar miiight be late today due to an angry gunda on the road\n"
     ]
    }
   ],
   "source": [
    "print(\"Most Liked Tweet: \\n{}\".format(data['Tweets'][fav]))"
   ]
  },
  {
   "cell_type": "code",
   "execution_count": 99,
   "metadata": {},
   "outputs": [
    {
     "name": "stdout",
     "output_type": "stream",
     "text": [
      "Total Number of Tweets: 27684\n"
     ]
    }
   ],
   "source": [
    "print(\"Total Number of Tweets: {}\".format(fav_max))"
   ]
  },
  {
   "cell_type": "code",
   "execution_count": 100,
   "metadata": {},
   "outputs": [
    {
     "name": "stdout",
     "output_type": "stream",
     "text": [
      "81 characters.\n",
      "\n"
     ]
    }
   ],
   "source": [
    "print(\"{} characters.\\n\".format(data['len'][fav]))"
   ]
  },
  {
   "cell_type": "markdown",
   "metadata": {},
   "source": [
    "Max RTs:"
   ]
  },
  {
   "cell_type": "code",
   "execution_count": 101,
   "metadata": {},
   "outputs": [
    {
     "name": "stdout",
     "output_type": "stream",
     "text": [
      "Most re-tweeted Tweet: \n",
      "RT @ZomatoIN: Food doesn’t have a religion. It is a religion. https://t.co/H8P5FlAw6y\n"
     ]
    }
   ],
   "source": [
    "print(\"Most re-tweeted Tweet: \\n{}\".format(data['Tweets'][rt]))"
   ]
  },
  {
   "cell_type": "code",
   "execution_count": 102,
   "metadata": {},
   "outputs": [
    {
     "name": "stdout",
     "output_type": "stream",
     "text": [
      "Total Number of re-tweets: 25961\n"
     ]
    }
   ],
   "source": [
    "print(\"Total Number of re-tweets: {}\".format(rt_max))"
   ]
  },
  {
   "cell_type": "code",
   "execution_count": 103,
   "metadata": {},
   "outputs": [
    {
     "name": "stdout",
     "output_type": "stream",
     "text": [
      "85 characters.\n",
      "\n"
     ]
    }
   ],
   "source": [
    "print(\"{} characters.\\n\".format(data['len'][rt]))"
   ]
  },
  {
   "cell_type": "code",
   "execution_count": 104,
   "metadata": {},
   "outputs": [],
   "source": [
    "from textblob import TextBlob\n",
    "import re"
   ]
  },
  {
   "cell_type": "code",
   "execution_count": 105,
   "metadata": {},
   "outputs": [],
   "source": [
    "def clean_tweet(tweet):\n",
    "    '''\n",
    "    Utility function to clean the text in a tweet by removing \n",
    "    links and special characters using regex.\n",
    "    '''\n",
    "    return ' '.join(re.sub(\"(@[A-Za-z0-9]+)|([^0-9A-Za-z \\t])|(\\w+:\\/\\/\\S+)\", \" \", tweet).split())"
   ]
  },
  {
   "cell_type": "code",
   "execution_count": 106,
   "metadata": {},
   "outputs": [],
   "source": [
    "def analize_sentiment(tweet):\n",
    "\n",
    "    sentiment_analysis = TextBlob(clean_tweet(tweet))\n",
    "    if sentiment_analysis.sentiment.polarity > 0:\n",
    "        return 1\n",
    "    elif sentiment_analysis.sentiment.polarity == 0:\n",
    "        return 0\n",
    "    else:\n",
    "        return -1"
   ]
  },
  {
   "cell_type": "code",
   "execution_count": 107,
   "metadata": {},
   "outputs": [],
   "source": [
    "# We create a column with the result of the analysis:\n",
    "data['SA'] = np.array([ analize_sentiment(tweet) for tweet in data['Tweets'] ])"
   ]
  },
  {
   "cell_type": "code",
   "execution_count": 108,
   "metadata": {},
   "outputs": [
    {
     "data": {
      "text/html": [
       "<div>\n",
       "<style scoped>\n",
       "    .dataframe tbody tr th:only-of-type {\n",
       "        vertical-align: middle;\n",
       "    }\n",
       "\n",
       "    .dataframe tbody tr th {\n",
       "        vertical-align: top;\n",
       "    }\n",
       "\n",
       "    .dataframe thead th {\n",
       "        text-align: right;\n",
       "    }\n",
       "</style>\n",
       "<table border=\"1\" class=\"dataframe\">\n",
       "  <thead>\n",
       "    <tr style=\"text-align: right;\">\n",
       "      <th></th>\n",
       "      <th>Tweets</th>\n",
       "      <th>len</th>\n",
       "      <th>ID</th>\n",
       "      <th>Date</th>\n",
       "      <th>Source</th>\n",
       "      <th>Likes</th>\n",
       "      <th>RTs</th>\n",
       "      <th>SA</th>\n",
       "    </tr>\n",
       "  </thead>\n",
       "  <tbody>\n",
       "    <tr>\n",
       "      <th>0</th>\n",
       "      <td>taking over 150,000 steps to end the pandemic💉...</td>\n",
       "      <td>70</td>\n",
       "      <td>1395706841191960576</td>\n",
       "      <td>2021-05-21 11:43:36</td>\n",
       "      <td>Twitter Web App</td>\n",
       "      <td>217</td>\n",
       "      <td>15</td>\n",
       "      <td>0</td>\n",
       "    </tr>\n",
       "    <tr>\n",
       "      <th>1</th>\n",
       "      <td>one indian dish that you wish had no calories?</td>\n",
       "      <td>46</td>\n",
       "      <td>1395655056612077571</td>\n",
       "      <td>2021-05-21 08:17:50</td>\n",
       "      <td>Twitter Web App</td>\n",
       "      <td>1500</td>\n",
       "      <td>18</td>\n",
       "      <td>0</td>\n",
       "    </tr>\n",
       "    <tr>\n",
       "      <th>2</th>\n",
       "      <td>@it_is_not_me_47 https://t.co/cvEeBiErPF</td>\n",
       "      <td>40</td>\n",
       "      <td>1395024795910160386</td>\n",
       "      <td>2021-05-19 14:33:24</td>\n",
       "      <td>Twitter Web App</td>\n",
       "      <td>299</td>\n",
       "      <td>12</td>\n",
       "      <td>0</td>\n",
       "    </tr>\n",
       "    <tr>\n",
       "      <th>3</th>\n",
       "      <td>yes buy the dips saath mein fries mat bhoolna</td>\n",
       "      <td>45</td>\n",
       "      <td>1395023066489569280</td>\n",
       "      <td>2021-05-19 14:26:31</td>\n",
       "      <td>Twitter Web App</td>\n",
       "      <td>3391</td>\n",
       "      <td>242</td>\n",
       "      <td>0</td>\n",
       "    </tr>\n",
       "    <tr>\n",
       "      <th>4</th>\n",
       "      <td>the very first restaurant that you'd visit onc...</td>\n",
       "      <td>74</td>\n",
       "      <td>1394533619344068609</td>\n",
       "      <td>2021-05-18 06:01:38</td>\n",
       "      <td>Twitter Web App</td>\n",
       "      <td>689</td>\n",
       "      <td>17</td>\n",
       "      <td>1</td>\n",
       "    </tr>\n",
       "    <tr>\n",
       "      <th>5</th>\n",
       "      <td>think we watched the wrong aspirants https://t...</td>\n",
       "      <td>60</td>\n",
       "      <td>1394323965494038537</td>\n",
       "      <td>2021-05-17 16:08:33</td>\n",
       "      <td>Twitter Web App</td>\n",
       "      <td>1020</td>\n",
       "      <td>80</td>\n",
       "      <td>-1</td>\n",
       "    </tr>\n",
       "    <tr>\n",
       "      <th>6</th>\n",
       "      <td>@KFC_India @swiggy_in the credit goes to deliv...</td>\n",
       "      <td>60</td>\n",
       "      <td>1392735548071194626</td>\n",
       "      <td>2021-05-13 06:56:45</td>\n",
       "      <td>Twitter Web App</td>\n",
       "      <td>11</td>\n",
       "      <td>0</td>\n",
       "      <td>0</td>\n",
       "    </tr>\n",
       "    <tr>\n",
       "      <th>7</th>\n",
       "      <td>just a tweet praying for the well-being of str...</td>\n",
       "      <td>75</td>\n",
       "      <td>1392051403590230024</td>\n",
       "      <td>2021-05-11 09:38:12</td>\n",
       "      <td>Twitter Web App</td>\n",
       "      <td>1524</td>\n",
       "      <td>113</td>\n",
       "      <td>0</td>\n",
       "    </tr>\n",
       "    <tr>\n",
       "      <th>8</th>\n",
       "      <td>the one we can't compete with\\n#happymothersda...</td>\n",
       "      <td>74</td>\n",
       "      <td>1391249696929193986</td>\n",
       "      <td>2021-05-09 04:32:30</td>\n",
       "      <td>Twitter Web App</td>\n",
       "      <td>1082</td>\n",
       "      <td>115</td>\n",
       "      <td>0</td>\n",
       "    </tr>\n",
       "    <tr>\n",
       "      <th>9</th>\n",
       "      <td>we understand. we are just as tired of the sit...</td>\n",
       "      <td>111</td>\n",
       "      <td>1391033071437180936</td>\n",
       "      <td>2021-05-08 14:11:43</td>\n",
       "      <td>Twitter Web App</td>\n",
       "      <td>1385</td>\n",
       "      <td>83</td>\n",
       "      <td>1</td>\n",
       "    </tr>\n",
       "  </tbody>\n",
       "</table>\n",
       "</div>"
      ],
      "text/plain": [
       "                                              Tweets  len  \\\n",
       "0  taking over 150,000 steps to end the pandemic💉...   70   \n",
       "1     one indian dish that you wish had no calories?   46   \n",
       "2           @it_is_not_me_47 https://t.co/cvEeBiErPF   40   \n",
       "3      yes buy the dips saath mein fries mat bhoolna   45   \n",
       "4  the very first restaurant that you'd visit onc...   74   \n",
       "5  think we watched the wrong aspirants https://t...   60   \n",
       "6  @KFC_India @swiggy_in the credit goes to deliv...   60   \n",
       "7  just a tweet praying for the well-being of str...   75   \n",
       "8  the one we can't compete with\\n#happymothersda...   74   \n",
       "9  we understand. we are just as tired of the sit...  111   \n",
       "\n",
       "                    ID                Date           Source  Likes  RTs  SA  \n",
       "0  1395706841191960576 2021-05-21 11:43:36  Twitter Web App    217   15   0  \n",
       "1  1395655056612077571 2021-05-21 08:17:50  Twitter Web App   1500   18   0  \n",
       "2  1395024795910160386 2021-05-19 14:33:24  Twitter Web App    299   12   0  \n",
       "3  1395023066489569280 2021-05-19 14:26:31  Twitter Web App   3391  242   0  \n",
       "4  1394533619344068609 2021-05-18 06:01:38  Twitter Web App    689   17   1  \n",
       "5  1394323965494038537 2021-05-17 16:08:33  Twitter Web App   1020   80  -1  \n",
       "6  1392735548071194626 2021-05-13 06:56:45  Twitter Web App     11    0   0  \n",
       "7  1392051403590230024 2021-05-11 09:38:12  Twitter Web App   1524  113   0  \n",
       "8  1391249696929193986 2021-05-09 04:32:30  Twitter Web App   1082  115   0  \n",
       "9  1391033071437180936 2021-05-08 14:11:43  Twitter Web App   1385   83   1  "
      ]
     },
     "metadata": {},
     "output_type": "display_data"
    }
   ],
   "source": [
    "# We display the updated dataframe with the new column:\n",
    "display(data.head(10))"
   ]
  },
  {
   "cell_type": "code",
   "execution_count": 109,
   "metadata": {},
   "outputs": [],
   "source": [
    "positive_tweets = [ tweet for index, tweet in enumerate(data['Tweets']) if data['SA'][index] > 0]\n",
    "neutral_tweets = [ tweet for index, tweet in enumerate(data['Tweets']) if data['SA'][index] == 0]\n",
    "negative_tweets = [ tweet for index, tweet in enumerate(data['Tweets']) if data['SA'][index] < 0]"
   ]
  },
  {
   "cell_type": "code",
   "execution_count": 110,
   "metadata": {},
   "outputs": [
    {
     "name": "stdout",
     "output_type": "stream",
     "text": [
      "Percentage of positive tweets: 34.73684210526316%\n"
     ]
    }
   ],
   "source": [
    "print(\"Percentage of positive tweets: {}%\".format(len(positive_tweets)*100/len(data['Tweets'])))"
   ]
  },
  {
   "cell_type": "code",
   "execution_count": 111,
   "metadata": {},
   "outputs": [
    {
     "name": "stdout",
     "output_type": "stream",
     "text": [
      "Percentage of neutral tweets: 55.78947368421053%\n"
     ]
    }
   ],
   "source": [
    "print(\"Percentage of neutral tweets: {}%\".format(len(neutral_tweets)*100/len(data['Tweets'])))"
   ]
  },
  {
   "cell_type": "code",
   "execution_count": 112,
   "metadata": {},
   "outputs": [
    {
     "name": "stdout",
     "output_type": "stream",
     "text": [
      "Percentage of negative tweets: 9.473684210526315%\n"
     ]
    }
   ],
   "source": [
    "print(\"Percentage of negative tweets: {}%\".format(len(negative_tweets)*100/len(data['Tweets'])))"
   ]
  }
 ],
 "metadata": {
  "kernelspec": {
   "display_name": "Python 3",
   "language": "python",
   "name": "python3"
  },
  "language_info": {
   "codemirror_mode": {
    "name": "ipython",
    "version": 3
   },
   "file_extension": ".py",
   "mimetype": "text/x-python",
   "name": "python",
   "nbconvert_exporter": "python",
   "pygments_lexer": "ipython3",
   "version": "3.8.5"
  }
 },
 "nbformat": 4,
 "nbformat_minor": 4
}
