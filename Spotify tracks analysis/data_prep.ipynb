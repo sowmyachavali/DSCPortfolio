{
 "cells": [
  {
   "cell_type": "markdown",
   "metadata": {},
   "source": []
  },
  {
   "cell_type": "markdown",
   "metadata": {},
   "source": [
    "###### Spotify data analysis"
   ]
  },
  {
   "cell_type": "markdown",
   "metadata": {},
   "source": [
    "Music is universal. It’s more than a billion-dollar industry, and it is omnipresent. How many hours in a row do you ever go without listening to music? I believe that music is a way of life. Listening to it makes my mind and soul feel great. I consider it a source of motivation, and as an ancient sage said: \"Life without music would be a mistake\".\n",
    "\n",
    "\n",
    "Spotify is a digital music, podcast, and video streaming service that gives us access to millions of songs and other content from artists all over the world. The purpose of this Spotify analysis project is to analyze how different or how similar is the music that different artists on the app produce. We will get to know which tracks/artists are the best, taking into consideration the numerical features like popularity, danceability, loudness, number of views, follower info etc. To achieve this, I would be sourcing 3 Spotify datasets from 3 different sources, a flat file, Spotify API and HTML data. Let’s explore each dataset. \n"
   ]
  },
  {
   "cell_type": "markdown",
   "metadata": {},
   "source": [
    "Lets do some data cleaning and prepare the data for the analysis.\n",
    "To achieve this let’s explore each dataset. \n"
   ]
  },
  {
   "cell_type": "markdown",
   "metadata": {},
   "source": [
    "###### CSV file\n",
    "Assesing the flat file source dataset i.e, tracks.csv taken from Kaggle.\n",
    "\n",
    "URL - https://www.kaggle.com/yamaerenay/spotify-dataset-19212020-160k-tracks"
   ]
  },
  {
   "cell_type": "markdown",
   "metadata": {},
   "source": [
    "Dataset attibutes overview\n",
    "\n",
    "\tId : id of track\n",
    "\tname  : name of track\n",
    "\tpopularity : popularity of track\n",
    "\tduration_ms : time duration of track in ms\n",
    "\texplicit - whether it contains explicit (1) content or not (0)\n",
    "\tartists - artists contributed to the track\n",
    "\tid_artists - id of artists contributed to the track\n",
    "\trelease_date : the release date of the album containing this track\n",
    "\tdanceability : how suitable the track is for dancing, 0(not danceable)->1(very danceable)\n",
    "\tenergy - how energetic the track is, 0(less energetic)->1(very energetic)\n",
    "\tkey - the major key of the track, 0:C, 1:C#, 2:D, ..., 11:B\n",
    "\tloudness - how loud the song is in dB -60(very quiet)->0(very loud)\n",
    "\tmode -  whether the track is major (1) or minor (0)\n",
    "\tspeechiness - the ratio of spoken words to the overall, 0(instrumental)->1(talk show)\n",
    "\tacousticness - whether the song is acoustic or not, 0(not acoustic)->1(very acoustic)\n",
    "\tinstrumentalness - the ratio of instrumental sounds overall, 0(lot of vocal sounds)->1(instrument sounds)\n",
    "\tliveness - presence of audience, 0(studio record)->1(concert)\n",
    "\tvalence - how positive the music is, 0(sad)->1(cheerful)\n",
    "\ttempo - tempo of track in BPM\n",
    "\ttime_signature - the predicted time signature of the track, most typically 4\n"
   ]
  },
  {
   "cell_type": "markdown",
   "metadata": {},
   "source": [
    "I will now assess the tracks dataset and will proceed with the next steps of data wrangling by replacing headers to make the dataset more meaningful, identifying duplicates, outliers and null values, formatting the attributes like artist_id and artist names as the data is in square braces. There are few tracks with multiple artists. I would be excluding this data for my analysis. I will also drop few columns which are not required for my analysis. "
   ]
  },
  {
   "cell_type": "code",
   "execution_count": 1,
   "metadata": {},
   "outputs": [],
   "source": [
    "import pandas as pd"
   ]
  },
  {
   "cell_type": "code",
   "execution_count": 2,
   "metadata": {},
   "outputs": [],
   "source": [
    "tracks_df = pd.read_csv('tracks.csv')"
   ]
  },
  {
   "cell_type": "code",
   "execution_count": 3,
   "metadata": {},
   "outputs": [
    {
     "data": {
      "text/html": [
       "<div>\n",
       "<style scoped>\n",
       "    .dataframe tbody tr th:only-of-type {\n",
       "        vertical-align: middle;\n",
       "    }\n",
       "\n",
       "    .dataframe tbody tr th {\n",
       "        vertical-align: top;\n",
       "    }\n",
       "\n",
       "    .dataframe thead th {\n",
       "        text-align: right;\n",
       "    }\n",
       "</style>\n",
       "<table border=\"1\" class=\"dataframe\">\n",
       "  <thead>\n",
       "    <tr style=\"text-align: right;\">\n",
       "      <th></th>\n",
       "      <th>id</th>\n",
       "      <th>name</th>\n",
       "      <th>popularity</th>\n",
       "      <th>duration_ms</th>\n",
       "      <th>explicit</th>\n",
       "      <th>artists</th>\n",
       "      <th>id_artists</th>\n",
       "      <th>release_date</th>\n",
       "      <th>danceability</th>\n",
       "      <th>energy</th>\n",
       "      <th>key</th>\n",
       "      <th>loudness</th>\n",
       "      <th>mode</th>\n",
       "      <th>speechiness</th>\n",
       "      <th>acousticness</th>\n",
       "      <th>instrumentalness</th>\n",
       "      <th>liveness</th>\n",
       "      <th>valence</th>\n",
       "      <th>tempo</th>\n",
       "      <th>time_signature</th>\n",
       "    </tr>\n",
       "  </thead>\n",
       "  <tbody>\n",
       "    <tr>\n",
       "      <th>0</th>\n",
       "      <td>35iwgR4jXetI318WEWsa1Q</td>\n",
       "      <td>Carve</td>\n",
       "      <td>6</td>\n",
       "      <td>126903</td>\n",
       "      <td>0</td>\n",
       "      <td>['Uli']</td>\n",
       "      <td>['45tIt06XoI0Iio4LBEVpls']</td>\n",
       "      <td>1922-02-22</td>\n",
       "      <td>0.645</td>\n",
       "      <td>0.4450</td>\n",
       "      <td>0</td>\n",
       "      <td>-13.338</td>\n",
       "      <td>1</td>\n",
       "      <td>0.4510</td>\n",
       "      <td>0.674</td>\n",
       "      <td>0.7440</td>\n",
       "      <td>0.151</td>\n",
       "      <td>0.127</td>\n",
       "      <td>104.851</td>\n",
       "      <td>3</td>\n",
       "    </tr>\n",
       "    <tr>\n",
       "      <th>1</th>\n",
       "      <td>021ht4sdgPcrDgSk7JTbKY</td>\n",
       "      <td>Capítulo 2.16 - Banquero Anarquista</td>\n",
       "      <td>0</td>\n",
       "      <td>98200</td>\n",
       "      <td>0</td>\n",
       "      <td>['Fernando Pessoa']</td>\n",
       "      <td>['14jtPCOoNZwquk5wd9DxrY']</td>\n",
       "      <td>1922-06-01</td>\n",
       "      <td>0.695</td>\n",
       "      <td>0.2630</td>\n",
       "      <td>0</td>\n",
       "      <td>-22.136</td>\n",
       "      <td>1</td>\n",
       "      <td>0.9570</td>\n",
       "      <td>0.797</td>\n",
       "      <td>0.0000</td>\n",
       "      <td>0.148</td>\n",
       "      <td>0.655</td>\n",
       "      <td>102.009</td>\n",
       "      <td>1</td>\n",
       "    </tr>\n",
       "    <tr>\n",
       "      <th>2</th>\n",
       "      <td>07A5yehtSnoedViJAZkNnc</td>\n",
       "      <td>Vivo para Quererte - Remasterizado</td>\n",
       "      <td>0</td>\n",
       "      <td>181640</td>\n",
       "      <td>0</td>\n",
       "      <td>['Ignacio Corsini']</td>\n",
       "      <td>['5LiOoJbxVSAMkBS2fUm3X2']</td>\n",
       "      <td>1922-03-21</td>\n",
       "      <td>0.434</td>\n",
       "      <td>0.1770</td>\n",
       "      <td>1</td>\n",
       "      <td>-21.180</td>\n",
       "      <td>1</td>\n",
       "      <td>0.0512</td>\n",
       "      <td>0.994</td>\n",
       "      <td>0.0218</td>\n",
       "      <td>0.212</td>\n",
       "      <td>0.457</td>\n",
       "      <td>130.418</td>\n",
       "      <td>5</td>\n",
       "    </tr>\n",
       "    <tr>\n",
       "      <th>3</th>\n",
       "      <td>08FmqUhxtyLTn6pAh6bk45</td>\n",
       "      <td>El Prisionero - Remasterizado</td>\n",
       "      <td>0</td>\n",
       "      <td>176907</td>\n",
       "      <td>0</td>\n",
       "      <td>['Ignacio Corsini']</td>\n",
       "      <td>['5LiOoJbxVSAMkBS2fUm3X2']</td>\n",
       "      <td>1922-03-21</td>\n",
       "      <td>0.321</td>\n",
       "      <td>0.0946</td>\n",
       "      <td>7</td>\n",
       "      <td>-27.961</td>\n",
       "      <td>1</td>\n",
       "      <td>0.0504</td>\n",
       "      <td>0.995</td>\n",
       "      <td>0.9180</td>\n",
       "      <td>0.104</td>\n",
       "      <td>0.397</td>\n",
       "      <td>169.980</td>\n",
       "      <td>3</td>\n",
       "    </tr>\n",
       "    <tr>\n",
       "      <th>4</th>\n",
       "      <td>08y9GfoqCWfOGsKdwojr5e</td>\n",
       "      <td>Lady of the Evening</td>\n",
       "      <td>0</td>\n",
       "      <td>163080</td>\n",
       "      <td>0</td>\n",
       "      <td>['Dick Haymes']</td>\n",
       "      <td>['3BiJGZsyX9sJchTqcSA7Su']</td>\n",
       "      <td>1922</td>\n",
       "      <td>0.402</td>\n",
       "      <td>0.1580</td>\n",
       "      <td>3</td>\n",
       "      <td>-16.900</td>\n",
       "      <td>0</td>\n",
       "      <td>0.0390</td>\n",
       "      <td>0.989</td>\n",
       "      <td>0.1300</td>\n",
       "      <td>0.311</td>\n",
       "      <td>0.196</td>\n",
       "      <td>103.220</td>\n",
       "      <td>4</td>\n",
       "    </tr>\n",
       "  </tbody>\n",
       "</table>\n",
       "</div>"
      ],
      "text/plain": [
       "                       id                                 name  popularity  \\\n",
       "0  35iwgR4jXetI318WEWsa1Q                                Carve           6   \n",
       "1  021ht4sdgPcrDgSk7JTbKY  Capítulo 2.16 - Banquero Anarquista           0   \n",
       "2  07A5yehtSnoedViJAZkNnc   Vivo para Quererte - Remasterizado           0   \n",
       "3  08FmqUhxtyLTn6pAh6bk45        El Prisionero - Remasterizado           0   \n",
       "4  08y9GfoqCWfOGsKdwojr5e                  Lady of the Evening           0   \n",
       "\n",
       "   duration_ms  explicit              artists                  id_artists  \\\n",
       "0       126903         0              ['Uli']  ['45tIt06XoI0Iio4LBEVpls']   \n",
       "1        98200         0  ['Fernando Pessoa']  ['14jtPCOoNZwquk5wd9DxrY']   \n",
       "2       181640         0  ['Ignacio Corsini']  ['5LiOoJbxVSAMkBS2fUm3X2']   \n",
       "3       176907         0  ['Ignacio Corsini']  ['5LiOoJbxVSAMkBS2fUm3X2']   \n",
       "4       163080         0      ['Dick Haymes']  ['3BiJGZsyX9sJchTqcSA7Su']   \n",
       "\n",
       "  release_date  danceability  energy  key  loudness  mode  speechiness  \\\n",
       "0   1922-02-22         0.645  0.4450    0   -13.338     1       0.4510   \n",
       "1   1922-06-01         0.695  0.2630    0   -22.136     1       0.9570   \n",
       "2   1922-03-21         0.434  0.1770    1   -21.180     1       0.0512   \n",
       "3   1922-03-21         0.321  0.0946    7   -27.961     1       0.0504   \n",
       "4         1922         0.402  0.1580    3   -16.900     0       0.0390   \n",
       "\n",
       "   acousticness  instrumentalness  liveness  valence    tempo  time_signature  \n",
       "0         0.674            0.7440     0.151    0.127  104.851               3  \n",
       "1         0.797            0.0000     0.148    0.655  102.009               1  \n",
       "2         0.994            0.0218     0.212    0.457  130.418               5  \n",
       "3         0.995            0.9180     0.104    0.397  169.980               3  \n",
       "4         0.989            0.1300     0.311    0.196  103.220               4  "
      ]
     },
     "execution_count": 3,
     "metadata": {},
     "output_type": "execute_result"
    }
   ],
   "source": [
    "tracks_df.head()"
   ]
  },
  {
   "cell_type": "code",
   "execution_count": 4,
   "metadata": {
    "scrolled": true
   },
   "outputs": [
    {
     "data": {
      "text/plain": [
       "(586672, 20)"
      ]
     },
     "execution_count": 4,
     "metadata": {},
     "output_type": "execute_result"
    }
   ],
   "source": [
    "tracks_df.shape"
   ]
  },
  {
   "cell_type": "markdown",
   "metadata": {},
   "source": [
    "There are 586672 tracks in the dataset with 20 columns."
   ]
  },
  {
   "cell_type": "code",
   "execution_count": 5,
   "metadata": {
    "scrolled": true
   },
   "outputs": [
    {
     "data": {
      "text/plain": [
       "id                   object\n",
       "name                 object\n",
       "popularity            int64\n",
       "duration_ms           int64\n",
       "explicit              int64\n",
       "artists              object\n",
       "id_artists           object\n",
       "release_date         object\n",
       "danceability        float64\n",
       "energy              float64\n",
       "key                   int64\n",
       "loudness            float64\n",
       "mode                  int64\n",
       "speechiness         float64\n",
       "acousticness        float64\n",
       "instrumentalness    float64\n",
       "liveness            float64\n",
       "valence             float64\n",
       "tempo               float64\n",
       "time_signature        int64\n",
       "dtype: object"
      ]
     },
     "execution_count": 5,
     "metadata": {},
     "output_type": "execute_result"
    }
   ],
   "source": [
    "tracks_df.dtypes"
   ]
  },
  {
   "cell_type": "code",
   "execution_count": 6,
   "metadata": {
    "scrolled": true
   },
   "outputs": [
    {
     "data": {
      "text/html": [
       "<div>\n",
       "<style scoped>\n",
       "    .dataframe tbody tr th:only-of-type {\n",
       "        vertical-align: middle;\n",
       "    }\n",
       "\n",
       "    .dataframe tbody tr th {\n",
       "        vertical-align: top;\n",
       "    }\n",
       "\n",
       "    .dataframe thead th {\n",
       "        text-align: right;\n",
       "    }\n",
       "</style>\n",
       "<table border=\"1\" class=\"dataframe\">\n",
       "  <thead>\n",
       "    <tr style=\"text-align: right;\">\n",
       "      <th></th>\n",
       "      <th>popularity</th>\n",
       "      <th>duration_ms</th>\n",
       "      <th>explicit</th>\n",
       "      <th>danceability</th>\n",
       "      <th>energy</th>\n",
       "      <th>key</th>\n",
       "      <th>loudness</th>\n",
       "      <th>mode</th>\n",
       "      <th>speechiness</th>\n",
       "      <th>acousticness</th>\n",
       "      <th>instrumentalness</th>\n",
       "      <th>liveness</th>\n",
       "      <th>valence</th>\n",
       "      <th>tempo</th>\n",
       "      <th>time_signature</th>\n",
       "    </tr>\n",
       "  </thead>\n",
       "  <tbody>\n",
       "    <tr>\n",
       "      <th>count</th>\n",
       "      <td>586672.000000</td>\n",
       "      <td>5.866720e+05</td>\n",
       "      <td>586672.000000</td>\n",
       "      <td>586672.000000</td>\n",
       "      <td>586672.000000</td>\n",
       "      <td>586672.000000</td>\n",
       "      <td>586672.000000</td>\n",
       "      <td>586672.000000</td>\n",
       "      <td>586672.000000</td>\n",
       "      <td>586672.000000</td>\n",
       "      <td>586672.000000</td>\n",
       "      <td>586672.000000</td>\n",
       "      <td>586672.000000</td>\n",
       "      <td>586672.000000</td>\n",
       "      <td>586672.000000</td>\n",
       "    </tr>\n",
       "    <tr>\n",
       "      <th>mean</th>\n",
       "      <td>27.570053</td>\n",
       "      <td>2.300512e+05</td>\n",
       "      <td>0.044086</td>\n",
       "      <td>0.563594</td>\n",
       "      <td>0.542036</td>\n",
       "      <td>5.221603</td>\n",
       "      <td>-10.206067</td>\n",
       "      <td>0.658797</td>\n",
       "      <td>0.104864</td>\n",
       "      <td>0.449863</td>\n",
       "      <td>0.113451</td>\n",
       "      <td>0.213935</td>\n",
       "      <td>0.552292</td>\n",
       "      <td>118.464857</td>\n",
       "      <td>3.873382</td>\n",
       "    </tr>\n",
       "    <tr>\n",
       "      <th>std</th>\n",
       "      <td>18.370642</td>\n",
       "      <td>1.265261e+05</td>\n",
       "      <td>0.205286</td>\n",
       "      <td>0.166103</td>\n",
       "      <td>0.251923</td>\n",
       "      <td>3.519423</td>\n",
       "      <td>5.089328</td>\n",
       "      <td>0.474114</td>\n",
       "      <td>0.179893</td>\n",
       "      <td>0.348837</td>\n",
       "      <td>0.266868</td>\n",
       "      <td>0.184326</td>\n",
       "      <td>0.257671</td>\n",
       "      <td>29.764108</td>\n",
       "      <td>0.473162</td>\n",
       "    </tr>\n",
       "    <tr>\n",
       "      <th>min</th>\n",
       "      <td>0.000000</td>\n",
       "      <td>3.344000e+03</td>\n",
       "      <td>0.000000</td>\n",
       "      <td>0.000000</td>\n",
       "      <td>0.000000</td>\n",
       "      <td>0.000000</td>\n",
       "      <td>-60.000000</td>\n",
       "      <td>0.000000</td>\n",
       "      <td>0.000000</td>\n",
       "      <td>0.000000</td>\n",
       "      <td>0.000000</td>\n",
       "      <td>0.000000</td>\n",
       "      <td>0.000000</td>\n",
       "      <td>0.000000</td>\n",
       "      <td>0.000000</td>\n",
       "    </tr>\n",
       "    <tr>\n",
       "      <th>25%</th>\n",
       "      <td>13.000000</td>\n",
       "      <td>1.750930e+05</td>\n",
       "      <td>0.000000</td>\n",
       "      <td>0.453000</td>\n",
       "      <td>0.343000</td>\n",
       "      <td>2.000000</td>\n",
       "      <td>-12.891000</td>\n",
       "      <td>0.000000</td>\n",
       "      <td>0.034000</td>\n",
       "      <td>0.096900</td>\n",
       "      <td>0.000000</td>\n",
       "      <td>0.098300</td>\n",
       "      <td>0.346000</td>\n",
       "      <td>95.600000</td>\n",
       "      <td>4.000000</td>\n",
       "    </tr>\n",
       "    <tr>\n",
       "      <th>50%</th>\n",
       "      <td>27.000000</td>\n",
       "      <td>2.148930e+05</td>\n",
       "      <td>0.000000</td>\n",
       "      <td>0.577000</td>\n",
       "      <td>0.549000</td>\n",
       "      <td>5.000000</td>\n",
       "      <td>-9.243000</td>\n",
       "      <td>1.000000</td>\n",
       "      <td>0.044300</td>\n",
       "      <td>0.422000</td>\n",
       "      <td>0.000024</td>\n",
       "      <td>0.139000</td>\n",
       "      <td>0.564000</td>\n",
       "      <td>117.384000</td>\n",
       "      <td>4.000000</td>\n",
       "    </tr>\n",
       "    <tr>\n",
       "      <th>75%</th>\n",
       "      <td>41.000000</td>\n",
       "      <td>2.638670e+05</td>\n",
       "      <td>0.000000</td>\n",
       "      <td>0.686000</td>\n",
       "      <td>0.748000</td>\n",
       "      <td>8.000000</td>\n",
       "      <td>-6.482000</td>\n",
       "      <td>1.000000</td>\n",
       "      <td>0.076300</td>\n",
       "      <td>0.785000</td>\n",
       "      <td>0.009550</td>\n",
       "      <td>0.278000</td>\n",
       "      <td>0.769000</td>\n",
       "      <td>136.321000</td>\n",
       "      <td>4.000000</td>\n",
       "    </tr>\n",
       "    <tr>\n",
       "      <th>max</th>\n",
       "      <td>100.000000</td>\n",
       "      <td>5.621218e+06</td>\n",
       "      <td>1.000000</td>\n",
       "      <td>0.991000</td>\n",
       "      <td>1.000000</td>\n",
       "      <td>11.000000</td>\n",
       "      <td>5.376000</td>\n",
       "      <td>1.000000</td>\n",
       "      <td>0.971000</td>\n",
       "      <td>0.996000</td>\n",
       "      <td>1.000000</td>\n",
       "      <td>1.000000</td>\n",
       "      <td>1.000000</td>\n",
       "      <td>246.381000</td>\n",
       "      <td>5.000000</td>\n",
       "    </tr>\n",
       "  </tbody>\n",
       "</table>\n",
       "</div>"
      ],
      "text/plain": [
       "          popularity   duration_ms       explicit   danceability  \\\n",
       "count  586672.000000  5.866720e+05  586672.000000  586672.000000   \n",
       "mean       27.570053  2.300512e+05       0.044086       0.563594   \n",
       "std        18.370642  1.265261e+05       0.205286       0.166103   \n",
       "min         0.000000  3.344000e+03       0.000000       0.000000   \n",
       "25%        13.000000  1.750930e+05       0.000000       0.453000   \n",
       "50%        27.000000  2.148930e+05       0.000000       0.577000   \n",
       "75%        41.000000  2.638670e+05       0.000000       0.686000   \n",
       "max       100.000000  5.621218e+06       1.000000       0.991000   \n",
       "\n",
       "              energy            key       loudness           mode  \\\n",
       "count  586672.000000  586672.000000  586672.000000  586672.000000   \n",
       "mean        0.542036       5.221603     -10.206067       0.658797   \n",
       "std         0.251923       3.519423       5.089328       0.474114   \n",
       "min         0.000000       0.000000     -60.000000       0.000000   \n",
       "25%         0.343000       2.000000     -12.891000       0.000000   \n",
       "50%         0.549000       5.000000      -9.243000       1.000000   \n",
       "75%         0.748000       8.000000      -6.482000       1.000000   \n",
       "max         1.000000      11.000000       5.376000       1.000000   \n",
       "\n",
       "         speechiness   acousticness  instrumentalness       liveness  \\\n",
       "count  586672.000000  586672.000000     586672.000000  586672.000000   \n",
       "mean        0.104864       0.449863          0.113451       0.213935   \n",
       "std         0.179893       0.348837          0.266868       0.184326   \n",
       "min         0.000000       0.000000          0.000000       0.000000   \n",
       "25%         0.034000       0.096900          0.000000       0.098300   \n",
       "50%         0.044300       0.422000          0.000024       0.139000   \n",
       "75%         0.076300       0.785000          0.009550       0.278000   \n",
       "max         0.971000       0.996000          1.000000       1.000000   \n",
       "\n",
       "             valence          tempo  time_signature  \n",
       "count  586672.000000  586672.000000   586672.000000  \n",
       "mean        0.552292     118.464857        3.873382  \n",
       "std         0.257671      29.764108        0.473162  \n",
       "min         0.000000       0.000000        0.000000  \n",
       "25%         0.346000      95.600000        4.000000  \n",
       "50%         0.564000     117.384000        4.000000  \n",
       "75%         0.769000     136.321000        4.000000  \n",
       "max         1.000000     246.381000        5.000000  "
      ]
     },
     "execution_count": 6,
     "metadata": {},
     "output_type": "execute_result"
    }
   ],
   "source": [
    "tracks_df.describe()"
   ]
  },
  {
   "cell_type": "markdown",
   "metadata": {},
   "source": [
    "The popularity column has values ranging from 1 to 100 and the mean value is 27 which means that majority of the popularity rank falls below 50. For our analysis I would be considering the artist details, whose track's popularity is above 70 for atleast 1 track."
   ]
  },
  {
   "cell_type": "code",
   "execution_count": 7,
   "metadata": {},
   "outputs": [
    {
     "name": "stdout",
     "output_type": "stream",
     "text": [
      "<class 'pandas.core.frame.DataFrame'>\n",
      "RangeIndex: 586672 entries, 0 to 586671\n",
      "Data columns (total 20 columns):\n",
      " #   Column            Non-Null Count   Dtype  \n",
      "---  ------            --------------   -----  \n",
      " 0   id                586672 non-null  object \n",
      " 1   name              586601 non-null  object \n",
      " 2   popularity        586672 non-null  int64  \n",
      " 3   duration_ms       586672 non-null  int64  \n",
      " 4   explicit          586672 non-null  int64  \n",
      " 5   artists           586672 non-null  object \n",
      " 6   id_artists        586672 non-null  object \n",
      " 7   release_date      586672 non-null  object \n",
      " 8   danceability      586672 non-null  float64\n",
      " 9   energy            586672 non-null  float64\n",
      " 10  key               586672 non-null  int64  \n",
      " 11  loudness          586672 non-null  float64\n",
      " 12  mode              586672 non-null  int64  \n",
      " 13  speechiness       586672 non-null  float64\n",
      " 14  acousticness      586672 non-null  float64\n",
      " 15  instrumentalness  586672 non-null  float64\n",
      " 16  liveness          586672 non-null  float64\n",
      " 17  valence           586672 non-null  float64\n",
      " 18  tempo             586672 non-null  float64\n",
      " 19  time_signature    586672 non-null  int64  \n",
      "dtypes: float64(9), int64(6), object(5)\n",
      "memory usage: 89.5+ MB\n"
     ]
    }
   ],
   "source": [
    "tracks_df.info()"
   ]
  },
  {
   "cell_type": "markdown",
   "metadata": {},
   "source": [
    "Among the 20 atributes, I wont be using 'time_signature','mode','key','tempo' attributes as they are not useful for my analysis."
   ]
  },
  {
   "cell_type": "code",
   "execution_count": 8,
   "metadata": {},
   "outputs": [],
   "source": [
    "tracks_df.drop(columns=['time_signature','mode','key','tempo'], inplace=True)"
   ]
  },
  {
   "cell_type": "code",
   "execution_count": 9,
   "metadata": {
    "scrolled": false
   },
   "outputs": [
    {
     "name": "stdout",
     "output_type": "stream",
     "text": [
      "<class 'pandas.core.frame.DataFrame'>\n",
      "RangeIndex: 586672 entries, 0 to 586671\n",
      "Data columns (total 16 columns):\n",
      " #   Column            Non-Null Count   Dtype  \n",
      "---  ------            --------------   -----  \n",
      " 0   id                586672 non-null  object \n",
      " 1   name              586601 non-null  object \n",
      " 2   popularity        586672 non-null  int64  \n",
      " 3   duration_ms       586672 non-null  int64  \n",
      " 4   explicit          586672 non-null  int64  \n",
      " 5   artists           586672 non-null  object \n",
      " 6   id_artists        586672 non-null  object \n",
      " 7   release_date      586672 non-null  object \n",
      " 8   danceability      586672 non-null  float64\n",
      " 9   energy            586672 non-null  float64\n",
      " 10  loudness          586672 non-null  float64\n",
      " 11  speechiness       586672 non-null  float64\n",
      " 12  acousticness      586672 non-null  float64\n",
      " 13  instrumentalness  586672 non-null  float64\n",
      " 14  liveness          586672 non-null  float64\n",
      " 15  valence           586672 non-null  float64\n",
      "dtypes: float64(8), int64(3), object(5)\n",
      "memory usage: 71.6+ MB\n"
     ]
    }
   ],
   "source": [
    "tracks_df.info()"
   ]
  },
  {
   "cell_type": "code",
   "execution_count": 10,
   "metadata": {},
   "outputs": [],
   "source": [
    "tracks_df = tracks_df.rename(columns = {'id': 'track_id', 'name': 'track_name', 'artists': 'artist_name', 'id_artists':'artist_id' }, inplace = False)"
   ]
  },
  {
   "cell_type": "code",
   "execution_count": 11,
   "metadata": {
    "scrolled": true
   },
   "outputs": [
    {
     "name": "stdout",
     "output_type": "stream",
     "text": [
      "<class 'pandas.core.frame.DataFrame'>\n",
      "RangeIndex: 586672 entries, 0 to 586671\n",
      "Data columns (total 16 columns):\n",
      " #   Column            Non-Null Count   Dtype  \n",
      "---  ------            --------------   -----  \n",
      " 0   track_id          586672 non-null  object \n",
      " 1   track_name        586601 non-null  object \n",
      " 2   popularity        586672 non-null  int64  \n",
      " 3   duration_ms       586672 non-null  int64  \n",
      " 4   explicit          586672 non-null  int64  \n",
      " 5   artist_name       586672 non-null  object \n",
      " 6   artist_id         586672 non-null  object \n",
      " 7   release_date      586672 non-null  object \n",
      " 8   danceability      586672 non-null  float64\n",
      " 9   energy            586672 non-null  float64\n",
      " 10  loudness          586672 non-null  float64\n",
      " 11  speechiness       586672 non-null  float64\n",
      " 12  acousticness      586672 non-null  float64\n",
      " 13  instrumentalness  586672 non-null  float64\n",
      " 14  liveness          586672 non-null  float64\n",
      " 15  valence           586672 non-null  float64\n",
      "dtypes: float64(8), int64(3), object(5)\n",
      "memory usage: 71.6+ MB\n"
     ]
    }
   ],
   "source": [
    "tracks_df.info()"
   ]
  },
  {
   "cell_type": "code",
   "execution_count": 12,
   "metadata": {},
   "outputs": [
    {
     "data": {
      "text/plain": [
       "track_name    71\n",
       "dtype: int64"
      ]
     },
     "execution_count": 12,
     "metadata": {},
     "output_type": "execute_result"
    }
   ],
   "source": [
    "null_columns=tracks_df.columns[tracks_df.isnull().any()]\n",
    "tracks_df[null_columns].isnull().sum()"
   ]
  },
  {
   "cell_type": "markdown",
   "metadata": {},
   "source": [
    "Another area of concern is that 71 tracks have null values for track_name . So I will be omitting those records as it wont be helpful for my analysis "
   ]
  },
  {
   "cell_type": "code",
   "execution_count": 13,
   "metadata": {
    "scrolled": true
   },
   "outputs": [
    {
     "data": {
      "text/html": [
       "<div>\n",
       "<style scoped>\n",
       "    .dataframe tbody tr th:only-of-type {\n",
       "        vertical-align: middle;\n",
       "    }\n",
       "\n",
       "    .dataframe tbody tr th {\n",
       "        vertical-align: top;\n",
       "    }\n",
       "\n",
       "    .dataframe thead th {\n",
       "        text-align: right;\n",
       "    }\n",
       "</style>\n",
       "<table border=\"1\" class=\"dataframe\">\n",
       "  <thead>\n",
       "    <tr style=\"text-align: right;\">\n",
       "      <th></th>\n",
       "      <th>track_id</th>\n",
       "      <th>track_name</th>\n",
       "      <th>popularity</th>\n",
       "      <th>duration_ms</th>\n",
       "      <th>explicit</th>\n",
       "      <th>artist_name</th>\n",
       "      <th>artist_id</th>\n",
       "      <th>release_date</th>\n",
       "      <th>danceability</th>\n",
       "      <th>energy</th>\n",
       "      <th>loudness</th>\n",
       "      <th>speechiness</th>\n",
       "      <th>acousticness</th>\n",
       "      <th>instrumentalness</th>\n",
       "      <th>liveness</th>\n",
       "      <th>valence</th>\n",
       "    </tr>\n",
       "  </thead>\n",
       "  <tbody>\n",
       "    <tr>\n",
       "      <th>226336</th>\n",
       "      <td>4iH7negBYMfj2z0wDNmgdx</td>\n",
       "      <td>NaN</td>\n",
       "      <td>28</td>\n",
       "      <td>264973</td>\n",
       "      <td>0</td>\n",
       "      <td>['']</td>\n",
       "      <td>['0LyfQWJT6nXafLPZqxe9Of']</td>\n",
       "      <td>1994-01-01</td>\n",
       "      <td>0.512</td>\n",
       "      <td>0.578</td>\n",
       "      <td>-12.280</td>\n",
       "      <td>0.0299</td>\n",
       "      <td>0.0433</td>\n",
       "      <td>0.000064</td>\n",
       "      <td>0.5160</td>\n",
       "      <td>0.692</td>\n",
       "    </tr>\n",
       "    <tr>\n",
       "      <th>510975</th>\n",
       "      <td>04d5kbLvSAIBt3pGcljdhC</td>\n",
       "      <td>NaN</td>\n",
       "      <td>0</td>\n",
       "      <td>184293</td>\n",
       "      <td>0</td>\n",
       "      <td>['']</td>\n",
       "      <td>['0LyfQWJT6nXafLPZqxe9Of']</td>\n",
       "      <td>1922-04-01</td>\n",
       "      <td>0.426</td>\n",
       "      <td>0.285</td>\n",
       "      <td>-11.970</td>\n",
       "      <td>0.0466</td>\n",
       "      <td>0.9950</td>\n",
       "      <td>0.264000</td>\n",
       "      <td>0.2930</td>\n",
       "      <td>0.583</td>\n",
       "    </tr>\n",
       "    <tr>\n",
       "      <th>510976</th>\n",
       "      <td>05tRkgyxVdwMePGqOXMDYU</td>\n",
       "      <td>NaN</td>\n",
       "      <td>0</td>\n",
       "      <td>191587</td>\n",
       "      <td>0</td>\n",
       "      <td>['']</td>\n",
       "      <td>['0LyfQWJT6nXafLPZqxe9Of']</td>\n",
       "      <td>1922-04-01</td>\n",
       "      <td>0.344</td>\n",
       "      <td>0.186</td>\n",
       "      <td>-13.495</td>\n",
       "      <td>0.0745</td>\n",
       "      <td>0.9950</td>\n",
       "      <td>0.000000</td>\n",
       "      <td>0.1150</td>\n",
       "      <td>0.290</td>\n",
       "    </tr>\n",
       "    <tr>\n",
       "      <th>510978</th>\n",
       "      <td>0YAMRgAQH6tkTh4sWNXr8L</td>\n",
       "      <td>NaN</td>\n",
       "      <td>0</td>\n",
       "      <td>191573</td>\n",
       "      <td>0</td>\n",
       "      <td>['']</td>\n",
       "      <td>['0LyfQWJT6nXafLPZqxe9Of']</td>\n",
       "      <td>1922-04-01</td>\n",
       "      <td>0.316</td>\n",
       "      <td>0.257</td>\n",
       "      <td>-13.611</td>\n",
       "      <td>0.0549</td>\n",
       "      <td>0.9950</td>\n",
       "      <td>0.769000</td>\n",
       "      <td>0.5190</td>\n",
       "      <td>0.529</td>\n",
       "    </tr>\n",
       "    <tr>\n",
       "      <th>510979</th>\n",
       "      <td>1K6MQQxmFpPb66ZnaiIpHX</td>\n",
       "      <td>NaN</td>\n",
       "      <td>0</td>\n",
       "      <td>167602</td>\n",
       "      <td>0</td>\n",
       "      <td>['']</td>\n",
       "      <td>['0LyfQWJT6nXafLPZqxe9Of']</td>\n",
       "      <td>1922-04-01</td>\n",
       "      <td>0.558</td>\n",
       "      <td>0.283</td>\n",
       "      <td>-12.847</td>\n",
       "      <td>0.0646</td>\n",
       "      <td>0.9960</td>\n",
       "      <td>0.000000</td>\n",
       "      <td>0.4530</td>\n",
       "      <td>0.608</td>\n",
       "    </tr>\n",
       "    <tr>\n",
       "      <th>...</th>\n",
       "      <td>...</td>\n",
       "      <td>...</td>\n",
       "      <td>...</td>\n",
       "      <td>...</td>\n",
       "      <td>...</td>\n",
       "      <td>...</td>\n",
       "      <td>...</td>\n",
       "      <td>...</td>\n",
       "      <td>...</td>\n",
       "      <td>...</td>\n",
       "      <td>...</td>\n",
       "      <td>...</td>\n",
       "      <td>...</td>\n",
       "      <td>...</td>\n",
       "      <td>...</td>\n",
       "      <td>...</td>\n",
       "    </tr>\n",
       "    <tr>\n",
       "      <th>517206</th>\n",
       "      <td>6OH9mz9aFbGlbf74cBwYWD</td>\n",
       "      <td>NaN</td>\n",
       "      <td>2</td>\n",
       "      <td>209760</td>\n",
       "      <td>0</td>\n",
       "      <td>['']</td>\n",
       "      <td>['0LyfQWJT6nXafLPZqxe9Of']</td>\n",
       "      <td>1962-02-01</td>\n",
       "      <td>0.506</td>\n",
       "      <td>0.598</td>\n",
       "      <td>-4.672</td>\n",
       "      <td>0.0635</td>\n",
       "      <td>0.7710</td>\n",
       "      <td>0.000001</td>\n",
       "      <td>0.6910</td>\n",
       "      <td>0.800</td>\n",
       "    </tr>\n",
       "    <tr>\n",
       "      <th>517215</th>\n",
       "      <td>15RqFDA86slfzujSQMEX4i</td>\n",
       "      <td>NaN</td>\n",
       "      <td>2</td>\n",
       "      <td>257280</td>\n",
       "      <td>0</td>\n",
       "      <td>['']</td>\n",
       "      <td>['0LyfQWJT6nXafLPZqxe9Of']</td>\n",
       "      <td>1962-02-01</td>\n",
       "      <td>0.612</td>\n",
       "      <td>0.615</td>\n",
       "      <td>-5.609</td>\n",
       "      <td>0.0551</td>\n",
       "      <td>0.8540</td>\n",
       "      <td>0.000023</td>\n",
       "      <td>0.0541</td>\n",
       "      <td>0.809</td>\n",
       "    </tr>\n",
       "    <tr>\n",
       "      <th>520127</th>\n",
       "      <td>0hKA9A2JPtFdg0fiMhyjQD</td>\n",
       "      <td>NaN</td>\n",
       "      <td>6</td>\n",
       "      <td>194081</td>\n",
       "      <td>0</td>\n",
       "      <td>['']</td>\n",
       "      <td>['0LyfQWJT6nXafLPZqxe9Of']</td>\n",
       "      <td>1974-12-31</td>\n",
       "      <td>0.471</td>\n",
       "      <td>0.369</td>\n",
       "      <td>-12.927</td>\n",
       "      <td>0.1460</td>\n",
       "      <td>0.9680</td>\n",
       "      <td>0.001100</td>\n",
       "      <td>0.1410</td>\n",
       "      <td>0.766</td>\n",
       "    </tr>\n",
       "    <tr>\n",
       "      <th>525238</th>\n",
       "      <td>1kR4gIb7nGxHPI3D2ifs59</td>\n",
       "      <td>NaN</td>\n",
       "      <td>26</td>\n",
       "      <td>289440</td>\n",
       "      <td>0</td>\n",
       "      <td>['']</td>\n",
       "      <td>['0LyfQWJT6nXafLPZqxe9Of']</td>\n",
       "      <td>1998-01-05</td>\n",
       "      <td>0.501</td>\n",
       "      <td>0.583</td>\n",
       "      <td>-9.460</td>\n",
       "      <td>0.0605</td>\n",
       "      <td>0.6900</td>\n",
       "      <td>0.003960</td>\n",
       "      <td>0.0747</td>\n",
       "      <td>0.734</td>\n",
       "    </tr>\n",
       "    <tr>\n",
       "      <th>525265</th>\n",
       "      <td>4xyBq8t4nkUKH8s28j6ZoD</td>\n",
       "      <td>NaN</td>\n",
       "      <td>24</td>\n",
       "      <td>254000</td>\n",
       "      <td>0</td>\n",
       "      <td>['']</td>\n",
       "      <td>['0LyfQWJT6nXafLPZqxe9Of']</td>\n",
       "      <td>1998-01-05</td>\n",
       "      <td>0.390</td>\n",
       "      <td>0.452</td>\n",
       "      <td>-9.900</td>\n",
       "      <td>0.0361</td>\n",
       "      <td>0.7370</td>\n",
       "      <td>0.000000</td>\n",
       "      <td>0.1110</td>\n",
       "      <td>0.662</td>\n",
       "    </tr>\n",
       "  </tbody>\n",
       "</table>\n",
       "<p>71 rows × 16 columns</p>\n",
       "</div>"
      ],
      "text/plain": [
       "                      track_id track_name  popularity  duration_ms  explicit  \\\n",
       "226336  4iH7negBYMfj2z0wDNmgdx        NaN          28       264973         0   \n",
       "510975  04d5kbLvSAIBt3pGcljdhC        NaN           0       184293         0   \n",
       "510976  05tRkgyxVdwMePGqOXMDYU        NaN           0       191587         0   \n",
       "510978  0YAMRgAQH6tkTh4sWNXr8L        NaN           0       191573         0   \n",
       "510979  1K6MQQxmFpPb66ZnaiIpHX        NaN           0       167602         0   \n",
       "...                        ...        ...         ...          ...       ...   \n",
       "517206  6OH9mz9aFbGlbf74cBwYWD        NaN           2       209760         0   \n",
       "517215  15RqFDA86slfzujSQMEX4i        NaN           2       257280         0   \n",
       "520127  0hKA9A2JPtFdg0fiMhyjQD        NaN           6       194081         0   \n",
       "525238  1kR4gIb7nGxHPI3D2ifs59        NaN          26       289440         0   \n",
       "525265  4xyBq8t4nkUKH8s28j6ZoD        NaN          24       254000         0   \n",
       "\n",
       "       artist_name                   artist_id release_date  danceability  \\\n",
       "226336        ['']  ['0LyfQWJT6nXafLPZqxe9Of']   1994-01-01         0.512   \n",
       "510975        ['']  ['0LyfQWJT6nXafLPZqxe9Of']   1922-04-01         0.426   \n",
       "510976        ['']  ['0LyfQWJT6nXafLPZqxe9Of']   1922-04-01         0.344   \n",
       "510978        ['']  ['0LyfQWJT6nXafLPZqxe9Of']   1922-04-01         0.316   \n",
       "510979        ['']  ['0LyfQWJT6nXafLPZqxe9Of']   1922-04-01         0.558   \n",
       "...            ...                         ...          ...           ...   \n",
       "517206        ['']  ['0LyfQWJT6nXafLPZqxe9Of']   1962-02-01         0.506   \n",
       "517215        ['']  ['0LyfQWJT6nXafLPZqxe9Of']   1962-02-01         0.612   \n",
       "520127        ['']  ['0LyfQWJT6nXafLPZqxe9Of']   1974-12-31         0.471   \n",
       "525238        ['']  ['0LyfQWJT6nXafLPZqxe9Of']   1998-01-05         0.501   \n",
       "525265        ['']  ['0LyfQWJT6nXafLPZqxe9Of']   1998-01-05         0.390   \n",
       "\n",
       "        energy  loudness  speechiness  acousticness  instrumentalness  \\\n",
       "226336   0.578   -12.280       0.0299        0.0433          0.000064   \n",
       "510975   0.285   -11.970       0.0466        0.9950          0.264000   \n",
       "510976   0.186   -13.495       0.0745        0.9950          0.000000   \n",
       "510978   0.257   -13.611       0.0549        0.9950          0.769000   \n",
       "510979   0.283   -12.847       0.0646        0.9960          0.000000   \n",
       "...        ...       ...          ...           ...               ...   \n",
       "517206   0.598    -4.672       0.0635        0.7710          0.000001   \n",
       "517215   0.615    -5.609       0.0551        0.8540          0.000023   \n",
       "520127   0.369   -12.927       0.1460        0.9680          0.001100   \n",
       "525238   0.583    -9.460       0.0605        0.6900          0.003960   \n",
       "525265   0.452    -9.900       0.0361        0.7370          0.000000   \n",
       "\n",
       "        liveness  valence  \n",
       "226336    0.5160    0.692  \n",
       "510975    0.2930    0.583  \n",
       "510976    0.1150    0.290  \n",
       "510978    0.5190    0.529  \n",
       "510979    0.4530    0.608  \n",
       "...          ...      ...  \n",
       "517206    0.6910    0.800  \n",
       "517215    0.0541    0.809  \n",
       "520127    0.1410    0.766  \n",
       "525238    0.0747    0.734  \n",
       "525265    0.1110    0.662  \n",
       "\n",
       "[71 rows x 16 columns]"
      ]
     },
     "execution_count": 13,
     "metadata": {},
     "output_type": "execute_result"
    }
   ],
   "source": [
    "tracks_df[tracks_df[\"track_name\"].isnull()]"
   ]
  },
  {
   "cell_type": "markdown",
   "metadata": {},
   "source": [
    "Now dropping the records whose track names is null. "
   ]
  },
  {
   "cell_type": "code",
   "execution_count": 14,
   "metadata": {},
   "outputs": [],
   "source": [
    "tracks_df = tracks_df.dropna()"
   ]
  },
  {
   "cell_type": "code",
   "execution_count": 15,
   "metadata": {},
   "outputs": [
    {
     "name": "stdout",
     "output_type": "stream",
     "text": [
      "<class 'pandas.core.frame.DataFrame'>\n",
      "Int64Index: 586601 entries, 0 to 586671\n",
      "Data columns (total 16 columns):\n",
      " #   Column            Non-Null Count   Dtype  \n",
      "---  ------            --------------   -----  \n",
      " 0   track_id          586601 non-null  object \n",
      " 1   track_name        586601 non-null  object \n",
      " 2   popularity        586601 non-null  int64  \n",
      " 3   duration_ms       586601 non-null  int64  \n",
      " 4   explicit          586601 non-null  int64  \n",
      " 5   artist_name       586601 non-null  object \n",
      " 6   artist_id         586601 non-null  object \n",
      " 7   release_date      586601 non-null  object \n",
      " 8   danceability      586601 non-null  float64\n",
      " 9   energy            586601 non-null  float64\n",
      " 10  loudness          586601 non-null  float64\n",
      " 11  speechiness       586601 non-null  float64\n",
      " 12  acousticness      586601 non-null  float64\n",
      " 13  instrumentalness  586601 non-null  float64\n",
      " 14  liveness          586601 non-null  float64\n",
      " 15  valence           586601 non-null  float64\n",
      "dtypes: float64(8), int64(3), object(5)\n",
      "memory usage: 76.1+ MB\n"
     ]
    }
   ],
   "source": [
    "tracks_df.info()"
   ]
  },
  {
   "cell_type": "code",
   "execution_count": 16,
   "metadata": {},
   "outputs": [],
   "source": [
    "cols = ['artist_name', 'artist_id']\n",
    "for col in cols:\n",
    "    tracks_df[col] = tracks_df[col].map(lambda x: str(x).lstrip(\"['\").rstrip(\"']\")).astype(str)"
   ]
  },
  {
   "cell_type": "markdown",
   "metadata": {},
   "source": [
    "The artist_name and artist_id columns have data enclosed in square braces and quotes. Hence stripped those special characters."
   ]
  },
  {
   "cell_type": "code",
   "execution_count": 17,
   "metadata": {
    "scrolled": true
   },
   "outputs": [
    {
     "data": {
      "text/html": [
       "<div>\n",
       "<style scoped>\n",
       "    .dataframe tbody tr th:only-of-type {\n",
       "        vertical-align: middle;\n",
       "    }\n",
       "\n",
       "    .dataframe tbody tr th {\n",
       "        vertical-align: top;\n",
       "    }\n",
       "\n",
       "    .dataframe thead th {\n",
       "        text-align: right;\n",
       "    }\n",
       "</style>\n",
       "<table border=\"1\" class=\"dataframe\">\n",
       "  <thead>\n",
       "    <tr style=\"text-align: right;\">\n",
       "      <th></th>\n",
       "      <th>track_id</th>\n",
       "      <th>track_name</th>\n",
       "      <th>popularity</th>\n",
       "      <th>duration_ms</th>\n",
       "      <th>explicit</th>\n",
       "      <th>artist_name</th>\n",
       "      <th>artist_id</th>\n",
       "      <th>release_date</th>\n",
       "      <th>danceability</th>\n",
       "      <th>energy</th>\n",
       "      <th>loudness</th>\n",
       "      <th>speechiness</th>\n",
       "      <th>acousticness</th>\n",
       "      <th>instrumentalness</th>\n",
       "      <th>liveness</th>\n",
       "      <th>valence</th>\n",
       "    </tr>\n",
       "  </thead>\n",
       "  <tbody>\n",
       "    <tr>\n",
       "      <th>0</th>\n",
       "      <td>35iwgR4jXetI318WEWsa1Q</td>\n",
       "      <td>Carve</td>\n",
       "      <td>6</td>\n",
       "      <td>126903</td>\n",
       "      <td>0</td>\n",
       "      <td>Uli</td>\n",
       "      <td>45tIt06XoI0Iio4LBEVpls</td>\n",
       "      <td>1922-02-22</td>\n",
       "      <td>0.645</td>\n",
       "      <td>0.4450</td>\n",
       "      <td>-13.338</td>\n",
       "      <td>0.4510</td>\n",
       "      <td>0.674</td>\n",
       "      <td>0.744000</td>\n",
       "      <td>0.1510</td>\n",
       "      <td>0.1270</td>\n",
       "    </tr>\n",
       "    <tr>\n",
       "      <th>1</th>\n",
       "      <td>021ht4sdgPcrDgSk7JTbKY</td>\n",
       "      <td>Capítulo 2.16 - Banquero Anarquista</td>\n",
       "      <td>0</td>\n",
       "      <td>98200</td>\n",
       "      <td>0</td>\n",
       "      <td>Fernando Pessoa</td>\n",
       "      <td>14jtPCOoNZwquk5wd9DxrY</td>\n",
       "      <td>1922-06-01</td>\n",
       "      <td>0.695</td>\n",
       "      <td>0.2630</td>\n",
       "      <td>-22.136</td>\n",
       "      <td>0.9570</td>\n",
       "      <td>0.797</td>\n",
       "      <td>0.000000</td>\n",
       "      <td>0.1480</td>\n",
       "      <td>0.6550</td>\n",
       "    </tr>\n",
       "    <tr>\n",
       "      <th>2</th>\n",
       "      <td>07A5yehtSnoedViJAZkNnc</td>\n",
       "      <td>Vivo para Quererte - Remasterizado</td>\n",
       "      <td>0</td>\n",
       "      <td>181640</td>\n",
       "      <td>0</td>\n",
       "      <td>Ignacio Corsini</td>\n",
       "      <td>5LiOoJbxVSAMkBS2fUm3X2</td>\n",
       "      <td>1922-03-21</td>\n",
       "      <td>0.434</td>\n",
       "      <td>0.1770</td>\n",
       "      <td>-21.180</td>\n",
       "      <td>0.0512</td>\n",
       "      <td>0.994</td>\n",
       "      <td>0.021800</td>\n",
       "      <td>0.2120</td>\n",
       "      <td>0.4570</td>\n",
       "    </tr>\n",
       "    <tr>\n",
       "      <th>3</th>\n",
       "      <td>08FmqUhxtyLTn6pAh6bk45</td>\n",
       "      <td>El Prisionero - Remasterizado</td>\n",
       "      <td>0</td>\n",
       "      <td>176907</td>\n",
       "      <td>0</td>\n",
       "      <td>Ignacio Corsini</td>\n",
       "      <td>5LiOoJbxVSAMkBS2fUm3X2</td>\n",
       "      <td>1922-03-21</td>\n",
       "      <td>0.321</td>\n",
       "      <td>0.0946</td>\n",
       "      <td>-27.961</td>\n",
       "      <td>0.0504</td>\n",
       "      <td>0.995</td>\n",
       "      <td>0.918000</td>\n",
       "      <td>0.1040</td>\n",
       "      <td>0.3970</td>\n",
       "    </tr>\n",
       "    <tr>\n",
       "      <th>4</th>\n",
       "      <td>08y9GfoqCWfOGsKdwojr5e</td>\n",
       "      <td>Lady of the Evening</td>\n",
       "      <td>0</td>\n",
       "      <td>163080</td>\n",
       "      <td>0</td>\n",
       "      <td>Dick Haymes</td>\n",
       "      <td>3BiJGZsyX9sJchTqcSA7Su</td>\n",
       "      <td>1922</td>\n",
       "      <td>0.402</td>\n",
       "      <td>0.1580</td>\n",
       "      <td>-16.900</td>\n",
       "      <td>0.0390</td>\n",
       "      <td>0.989</td>\n",
       "      <td>0.130000</td>\n",
       "      <td>0.3110</td>\n",
       "      <td>0.1960</td>\n",
       "    </tr>\n",
       "    <tr>\n",
       "      <th>...</th>\n",
       "      <td>...</td>\n",
       "      <td>...</td>\n",
       "      <td>...</td>\n",
       "      <td>...</td>\n",
       "      <td>...</td>\n",
       "      <td>...</td>\n",
       "      <td>...</td>\n",
       "      <td>...</td>\n",
       "      <td>...</td>\n",
       "      <td>...</td>\n",
       "      <td>...</td>\n",
       "      <td>...</td>\n",
       "      <td>...</td>\n",
       "      <td>...</td>\n",
       "      <td>...</td>\n",
       "      <td>...</td>\n",
       "    </tr>\n",
       "    <tr>\n",
       "      <th>586667</th>\n",
       "      <td>5rgu12WBIHQtvej2MdHSH0</td>\n",
       "      <td>云与海</td>\n",
       "      <td>50</td>\n",
       "      <td>258267</td>\n",
       "      <td>0</td>\n",
       "      <td>阿YueYue</td>\n",
       "      <td>1QLBXKM5GCpyQQSVMNZqrZ</td>\n",
       "      <td>2020-09-26</td>\n",
       "      <td>0.560</td>\n",
       "      <td>0.5180</td>\n",
       "      <td>-7.471</td>\n",
       "      <td>0.0292</td>\n",
       "      <td>0.785</td>\n",
       "      <td>0.000000</td>\n",
       "      <td>0.0648</td>\n",
       "      <td>0.2110</td>\n",
       "    </tr>\n",
       "    <tr>\n",
       "      <th>586668</th>\n",
       "      <td>0NuWgxEp51CutD2pJoF4OM</td>\n",
       "      <td>blind</td>\n",
       "      <td>72</td>\n",
       "      <td>153293</td>\n",
       "      <td>0</td>\n",
       "      <td>ROLE MODEL</td>\n",
       "      <td>1dy5WNgIKQU6ezkpZs4y8z</td>\n",
       "      <td>2020-10-21</td>\n",
       "      <td>0.765</td>\n",
       "      <td>0.6630</td>\n",
       "      <td>-5.223</td>\n",
       "      <td>0.0652</td>\n",
       "      <td>0.141</td>\n",
       "      <td>0.000297</td>\n",
       "      <td>0.0924</td>\n",
       "      <td>0.6860</td>\n",
       "    </tr>\n",
       "    <tr>\n",
       "      <th>586669</th>\n",
       "      <td>27Y1N4Q4U3EfDU5Ubw8ws2</td>\n",
       "      <td>What They'll Say About Us</td>\n",
       "      <td>70</td>\n",
       "      <td>187601</td>\n",
       "      <td>0</td>\n",
       "      <td>FINNEAS</td>\n",
       "      <td>37M5pPGs6V1fchFJSgCguX</td>\n",
       "      <td>2020-09-02</td>\n",
       "      <td>0.535</td>\n",
       "      <td>0.3140</td>\n",
       "      <td>-12.823</td>\n",
       "      <td>0.0408</td>\n",
       "      <td>0.895</td>\n",
       "      <td>0.000150</td>\n",
       "      <td>0.0874</td>\n",
       "      <td>0.0663</td>\n",
       "    </tr>\n",
       "    <tr>\n",
       "      <th>586670</th>\n",
       "      <td>45XJsGpFTyzbzeWK8VzR8S</td>\n",
       "      <td>A Day At A Time</td>\n",
       "      <td>58</td>\n",
       "      <td>142003</td>\n",
       "      <td>0</td>\n",
       "      <td>Gentle Bones', 'Clara Benin</td>\n",
       "      <td>4jGPdu95icCKVF31CcFKbS', '5ebPSE9YI5aLeZ1Z2gkqjn</td>\n",
       "      <td>2021-03-05</td>\n",
       "      <td>0.696</td>\n",
       "      <td>0.6150</td>\n",
       "      <td>-6.212</td>\n",
       "      <td>0.0345</td>\n",
       "      <td>0.206</td>\n",
       "      <td>0.000003</td>\n",
       "      <td>0.3050</td>\n",
       "      <td>0.4380</td>\n",
       "    </tr>\n",
       "    <tr>\n",
       "      <th>586671</th>\n",
       "      <td>5Ocn6dZ3BJFPWh4ylwFXtn</td>\n",
       "      <td>Mar de Emociones</td>\n",
       "      <td>38</td>\n",
       "      <td>214360</td>\n",
       "      <td>0</td>\n",
       "      <td>Afrosound</td>\n",
       "      <td>0i4Qda0k4nf7jnNHmSNpYv</td>\n",
       "      <td>2015-07-01</td>\n",
       "      <td>0.686</td>\n",
       "      <td>0.7230</td>\n",
       "      <td>-7.067</td>\n",
       "      <td>0.0363</td>\n",
       "      <td>0.105</td>\n",
       "      <td>0.000000</td>\n",
       "      <td>0.2640</td>\n",
       "      <td>0.9750</td>\n",
       "    </tr>\n",
       "  </tbody>\n",
       "</table>\n",
       "<p>586601 rows × 16 columns</p>\n",
       "</div>"
      ],
      "text/plain": [
       "                      track_id                           track_name  \\\n",
       "0       35iwgR4jXetI318WEWsa1Q                                Carve   \n",
       "1       021ht4sdgPcrDgSk7JTbKY  Capítulo 2.16 - Banquero Anarquista   \n",
       "2       07A5yehtSnoedViJAZkNnc   Vivo para Quererte - Remasterizado   \n",
       "3       08FmqUhxtyLTn6pAh6bk45        El Prisionero - Remasterizado   \n",
       "4       08y9GfoqCWfOGsKdwojr5e                  Lady of the Evening   \n",
       "...                        ...                                  ...   \n",
       "586667  5rgu12WBIHQtvej2MdHSH0                                  云与海   \n",
       "586668  0NuWgxEp51CutD2pJoF4OM                                blind   \n",
       "586669  27Y1N4Q4U3EfDU5Ubw8ws2            What They'll Say About Us   \n",
       "586670  45XJsGpFTyzbzeWK8VzR8S                      A Day At A Time   \n",
       "586671  5Ocn6dZ3BJFPWh4ylwFXtn                     Mar de Emociones   \n",
       "\n",
       "        popularity  duration_ms  explicit                  artist_name  \\\n",
       "0                6       126903         0                          Uli   \n",
       "1                0        98200         0              Fernando Pessoa   \n",
       "2                0       181640         0              Ignacio Corsini   \n",
       "3                0       176907         0              Ignacio Corsini   \n",
       "4                0       163080         0                  Dick Haymes   \n",
       "...            ...          ...       ...                          ...   \n",
       "586667          50       258267         0                      阿YueYue   \n",
       "586668          72       153293         0                   ROLE MODEL   \n",
       "586669          70       187601         0                      FINNEAS   \n",
       "586670          58       142003         0  Gentle Bones', 'Clara Benin   \n",
       "586671          38       214360         0                    Afrosound   \n",
       "\n",
       "                                               artist_id release_date  \\\n",
       "0                                 45tIt06XoI0Iio4LBEVpls   1922-02-22   \n",
       "1                                 14jtPCOoNZwquk5wd9DxrY   1922-06-01   \n",
       "2                                 5LiOoJbxVSAMkBS2fUm3X2   1922-03-21   \n",
       "3                                 5LiOoJbxVSAMkBS2fUm3X2   1922-03-21   \n",
       "4                                 3BiJGZsyX9sJchTqcSA7Su         1922   \n",
       "...                                                  ...          ...   \n",
       "586667                            1QLBXKM5GCpyQQSVMNZqrZ   2020-09-26   \n",
       "586668                            1dy5WNgIKQU6ezkpZs4y8z   2020-10-21   \n",
       "586669                            37M5pPGs6V1fchFJSgCguX   2020-09-02   \n",
       "586670  4jGPdu95icCKVF31CcFKbS', '5ebPSE9YI5aLeZ1Z2gkqjn   2021-03-05   \n",
       "586671                            0i4Qda0k4nf7jnNHmSNpYv   2015-07-01   \n",
       "\n",
       "        danceability  energy  loudness  speechiness  acousticness  \\\n",
       "0              0.645  0.4450   -13.338       0.4510         0.674   \n",
       "1              0.695  0.2630   -22.136       0.9570         0.797   \n",
       "2              0.434  0.1770   -21.180       0.0512         0.994   \n",
       "3              0.321  0.0946   -27.961       0.0504         0.995   \n",
       "4              0.402  0.1580   -16.900       0.0390         0.989   \n",
       "...              ...     ...       ...          ...           ...   \n",
       "586667         0.560  0.5180    -7.471       0.0292         0.785   \n",
       "586668         0.765  0.6630    -5.223       0.0652         0.141   \n",
       "586669         0.535  0.3140   -12.823       0.0408         0.895   \n",
       "586670         0.696  0.6150    -6.212       0.0345         0.206   \n",
       "586671         0.686  0.7230    -7.067       0.0363         0.105   \n",
       "\n",
       "        instrumentalness  liveness  valence  \n",
       "0               0.744000    0.1510   0.1270  \n",
       "1               0.000000    0.1480   0.6550  \n",
       "2               0.021800    0.2120   0.4570  \n",
       "3               0.918000    0.1040   0.3970  \n",
       "4               0.130000    0.3110   0.1960  \n",
       "...                  ...       ...      ...  \n",
       "586667          0.000000    0.0648   0.2110  \n",
       "586668          0.000297    0.0924   0.6860  \n",
       "586669          0.000150    0.0874   0.0663  \n",
       "586670          0.000003    0.3050   0.4380  \n",
       "586671          0.000000    0.2640   0.9750  \n",
       "\n",
       "[586601 rows x 16 columns]"
      ]
     },
     "execution_count": 17,
     "metadata": {},
     "output_type": "execute_result"
    }
   ],
   "source": [
    "tracks_df"
   ]
  },
  {
   "cell_type": "markdown",
   "metadata": {},
   "source": [
    "Now that the data is formatted by removing headers and updating column names, removing data with null track names and formatting the artist id and name columns for our convienience. I will now check if there are any outliers or bad data"
   ]
  },
  {
   "cell_type": "code",
   "execution_count": 18,
   "metadata": {},
   "outputs": [
    {
     "name": "stdout",
     "output_type": "stream",
     "text": [
      "column :  danceability\n",
      "min :  0.0\n",
      "max :  0.991\n",
      "column :  energy\n",
      "min :  0.0\n",
      "max :  1.0\n",
      "column :  loudness\n",
      "min :  -60.0\n",
      "max :  5.376\n",
      "column :  speechiness\n",
      "min :  0.0\n",
      "max :  0.971\n",
      "column :  acousticness\n",
      "min :  0.0\n",
      "max :  0.996\n",
      "column :  instrumentalness\n",
      "min :  0.0\n",
      "max :  1.0\n",
      "column :  liveness\n",
      "min :  0.0\n",
      "max :  1.0\n",
      "column :  valence\n",
      "min :  0.0\n",
      "max :  1.0\n",
      "column :  explicit\n",
      "min :  0\n",
      "max :  1\n"
     ]
    }
   ],
   "source": [
    "cols = ['danceability', 'energy', 'loudness', 'speechiness', 'acousticness', 'instrumentalness', 'liveness', 'valence', 'explicit']\n",
    "for col in cols:\n",
    "    print(\"column : \",col)\n",
    "    print(\"min : \",tracks_df[col].min())\n",
    "    print(\"max : \",tracks_df[col].max())"
   ]
  },
  {
   "cell_type": "markdown",
   "metadata": {},
   "source": [
    "All the numeric values in the dataset are within the range mentioned in dataset description and hence I dont find any bad data."
   ]
  },
  {
   "cell_type": "code",
   "execution_count": 19,
   "metadata": {},
   "outputs": [
    {
     "data": {
      "text/plain": [
       "<AxesSubplot:xlabel='loudness'>"
      ]
     },
     "execution_count": 19,
     "metadata": {},
     "output_type": "execute_result"
    },
    {
     "data": {
      "image/png": "[encoded data removed]",
      "text/plain": [
       "<Figure size 432x288 with 1 Axes>"
      ]
     },
     "metadata": {
      "needs_background": "light"
     },
     "output_type": "display_data"
    }
   ],
   "source": [
    "import seaborn as sns\n",
    "sns.boxplot(x=tracks_df['loudness'])"
   ]
  },
  {
   "cell_type": "markdown",
   "metadata": {},
   "source": [
    "Above plot has outliers between -60 to -25 and from 3 to 6. these observations are not included in the box of other observations. But I wont exclude this data as I plan to analyze the tracks popularity based on all the features like danceability, acousticness, loudness, speechiness etc."
   ]
  },
  {
   "cell_type": "code",
   "execution_count": 20,
   "metadata": {},
   "outputs": [
    {
     "data": {
      "text/html": [
       "<div>\n",
       "<style scoped>\n",
       "    .dataframe tbody tr th:only-of-type {\n",
       "        vertical-align: middle;\n",
       "    }\n",
       "\n",
       "    .dataframe tbody tr th {\n",
       "        vertical-align: top;\n",
       "    }\n",
       "\n",
       "    .dataframe thead th {\n",
       "        text-align: right;\n",
       "    }\n",
       "</style>\n",
       "<table border=\"1\" class=\"dataframe\">\n",
       "  <thead>\n",
       "    <tr style=\"text-align: right;\">\n",
       "      <th></th>\n",
       "      <th>track_id</th>\n",
       "      <th>track_name</th>\n",
       "      <th>popularity</th>\n",
       "      <th>duration_ms</th>\n",
       "      <th>explicit</th>\n",
       "      <th>artist_name</th>\n",
       "      <th>artist_id</th>\n",
       "      <th>release_date</th>\n",
       "      <th>danceability</th>\n",
       "      <th>energy</th>\n",
       "      <th>loudness</th>\n",
       "      <th>speechiness</th>\n",
       "      <th>acousticness</th>\n",
       "      <th>instrumentalness</th>\n",
       "      <th>liveness</th>\n",
       "      <th>valence</th>\n",
       "    </tr>\n",
       "  </thead>\n",
       "  <tbody>\n",
       "  </tbody>\n",
       "</table>\n",
       "</div>"
      ],
      "text/plain": [
       "Empty DataFrame\n",
       "Columns: [track_id, track_name, popularity, duration_ms, explicit, artist_name, artist_id, release_date, danceability, energy, loudness, speechiness, acousticness, instrumentalness, liveness, valence]\n",
       "Index: []"
      ]
     },
     "execution_count": 20,
     "metadata": {},
     "output_type": "execute_result"
    }
   ],
   "source": [
    "duplicate = tracks_df[tracks_df.duplicated()]\n",
    "duplicate"
   ]
  },
  {
   "cell_type": "code",
   "execution_count": 21,
   "metadata": {
    "scrolled": true
   },
   "outputs": [
    {
     "data": {
      "text/html": [
       "<div>\n",
       "<style scoped>\n",
       "    .dataframe tbody tr th:only-of-type {\n",
       "        vertical-align: middle;\n",
       "    }\n",
       "\n",
       "    .dataframe tbody tr th {\n",
       "        vertical-align: top;\n",
       "    }\n",
       "\n",
       "    .dataframe thead th {\n",
       "        text-align: right;\n",
       "    }\n",
       "</style>\n",
       "<table border=\"1\" class=\"dataframe\">\n",
       "  <thead>\n",
       "    <tr style=\"text-align: right;\">\n",
       "      <th></th>\n",
       "      <th>track_id</th>\n",
       "      <th>track_name</th>\n",
       "      <th>popularity</th>\n",
       "      <th>duration_ms</th>\n",
       "      <th>explicit</th>\n",
       "      <th>artist_name</th>\n",
       "      <th>artist_id</th>\n",
       "      <th>release_date</th>\n",
       "      <th>danceability</th>\n",
       "      <th>energy</th>\n",
       "      <th>loudness</th>\n",
       "      <th>speechiness</th>\n",
       "      <th>acousticness</th>\n",
       "      <th>instrumentalness</th>\n",
       "      <th>liveness</th>\n",
       "      <th>valence</th>\n",
       "    </tr>\n",
       "  </thead>\n",
       "  <tbody>\n",
       "  </tbody>\n",
       "</table>\n",
       "</div>"
      ],
      "text/plain": [
       "Empty DataFrame\n",
       "Columns: [track_id, track_name, popularity, duration_ms, explicit, artist_name, artist_id, release_date, danceability, energy, loudness, speechiness, acousticness, instrumentalness, liveness, valence]\n",
       "Index: []"
      ]
     },
     "execution_count": 21,
     "metadata": {},
     "output_type": "execute_result"
    }
   ],
   "source": [
    "duplicate = tracks_df[tracks_df.duplicated('track_id')]\n",
    "duplicate"
   ]
  },
  {
   "cell_type": "markdown",
   "metadata": {},
   "source": [
    "I dont see any duplicate track ids. So the dataset looks clean. We can now proceed with our EDA for the csv dataset."
   ]
  },
  {
   "cell_type": "markdown",
   "metadata": {},
   "source": [
    "######  HTML source"
   ]
  },
  {
   "cell_type": "markdown",
   "metadata": {},
   "source": [
    "Cleaning and preparing the HTML source data."
   ]
  },
  {
   "cell_type": "markdown",
   "metadata": {},
   "source": [
    "HTML – The data set has information most streamed artists ever on Spotify along with the streams count, number of tracks and number of tracks crossing benchmark number. \n",
    "Data Source - https://chartmasters.org/most-streamed-artists-ever-on-spotify/\n",
    "\n",
    "\n",
    "\tArtist Name \n",
    "\tLead Streams\n",
    "\tFeatured Streams\n",
    "\tTracks\n",
    "\t1b+\n",
    "\t100m+ \n",
    "\t10m+\n",
    "\t1m+\n",
    "\tLast Update\n",
    "\n"
   ]
  },
  {
   "cell_type": "code",
   "execution_count": 22,
   "metadata": {},
   "outputs": [],
   "source": [
    "import requests\n",
    "import lxml.html as lh\n",
    "import pandas as pd"
   ]
  },
  {
   "cell_type": "code",
   "execution_count": 23,
   "metadata": {},
   "outputs": [],
   "source": [
    "pd.set_option('max_colwidth', 12)"
   ]
  },
  {
   "cell_type": "code",
   "execution_count": 24,
   "metadata": {},
   "outputs": [],
   "source": [
    "url='https://chartmasters.org/most-streamed-artists-ever-on-spotify/'"
   ]
  },
  {
   "cell_type": "markdown",
   "metadata": {},
   "source": [
    "Create a handle, page, to handle the contents of the website"
   ]
  },
  {
   "cell_type": "code",
   "execution_count": 25,
   "metadata": {},
   "outputs": [],
   "source": [
    "page = requests.get(url)"
   ]
  },
  {
   "cell_type": "markdown",
   "metadata": {},
   "source": [
    "Store the contents of the website under doc"
   ]
  },
  {
   "cell_type": "code",
   "execution_count": 26,
   "metadata": {},
   "outputs": [],
   "source": [
    "doc = lh.fromstring(page.content)"
   ]
  },
  {
   "cell_type": "markdown",
   "metadata": {},
   "source": [
    "Parse data that are stored between <tr>..</tr> of HTML"
   ]
  },
  {
   "cell_type": "code",
   "execution_count": 27,
   "metadata": {},
   "outputs": [],
   "source": [
    "tr_elements = doc.xpath('//tr')"
   ]
  },
  {
   "cell_type": "markdown",
   "metadata": {},
   "source": [
    "For sanity check, ensure that all the rows have the same width.\n",
    "If not, we probably got something more than just the table.\n",
    "Check the length of the first 12 rows"
   ]
  },
  {
   "cell_type": "code",
   "execution_count": 28,
   "metadata": {},
   "outputs": [
    {
     "name": "stdout",
     "output_type": "stream",
     "text": [
      "[10, 10, 10, 10, 10, 10, 10, 10, 10, 10, 10, 10]\n"
     ]
    }
   ],
   "source": [
    "print([len(T) for T in tr_elements[:12]])"
   ]
  },
  {
   "cell_type": "code",
   "execution_count": 29,
   "metadata": {},
   "outputs": [
    {
     "name": "stdout",
     "output_type": "stream",
     "text": [
      "1:\"#\"\n",
      "2:\"Artist Name\"\n",
      "3:\"Lead Streams\"\n",
      "4:\"Featured Streams\"\n",
      "5:\"Tracks\"\n",
      "6:\"1b+\"\n",
      "7:\"100m+\"\n",
      "8:\"10m+\"\n",
      "9:\"1m+\"\n",
      "10:\"Last Update\"\n"
     ]
    }
   ],
   "source": [
    "tr_elements = doc.xpath('//tr')\n",
    "\n",
    "#Create empty list\n",
    "col=[]\n",
    "i=0\n",
    "#For each row, store each first element (header) and an empty list\n",
    "for t in tr_elements[0]:\n",
    "    i+=1\n",
    "    name=t.text_content()\n",
    "    print ('%d:\"%s\"'%(i,name))\n",
    "    col.append((name,[]))\n",
    "\n"
   ]
  },
  {
   "cell_type": "code",
   "execution_count": 30,
   "metadata": {},
   "outputs": [
    {
     "name": "stdout",
     "output_type": "stream",
     "text": [
      "[1000, 1000, 1000, 1000, 1000, 1000, 1000, 1000, 1000, 1000]\n"
     ]
    }
   ],
   "source": [
    "# Since out first row is the header, data is stored on the second row onwards\n",
    "for j in range(1, len(tr_elements)):\n",
    "    # T is our j'th row\n",
    "    T = tr_elements[j]\n",
    "\n",
    "    # If row is not of size 10, the //tr data is not from our table\n",
    "    if len(T) != 10:\n",
    "        break\n",
    "\n",
    "    # i is the index of our column\n",
    "    i = 0\n",
    "\n",
    "    # Iterate through each element of the row\n",
    "    for t in T.iterchildren():\n",
    "        data = t.text_content()\n",
    "        # Check if row is empty\n",
    "        if i > 0:\n",
    "            # Convert any numerical value to integers\n",
    "            try:\n",
    "                data = int(data)\n",
    "            except:\n",
    "                pass\n",
    "        # Append the data to the empty list of the i'th column\n",
    "        col[i][1].append(data)\n",
    "        # Increment i for the next column\n",
    "        i += 1\n",
    "\n",
    "print([len(C) for (title,C) in col])\n",
    "\n"
   ]
  },
  {
   "cell_type": "markdown",
   "metadata": {},
   "source": [
    "Perfect! This shows that each of our 10 columns has exactly 1000 values."
   ]
  },
  {
   "cell_type": "code",
   "execution_count": 31,
   "metadata": {
    "scrolled": false
   },
   "outputs": [
    {
     "data": {
      "text/html": [
       "<div>\n",
       "<style scoped>\n",
       "    .dataframe tbody tr th:only-of-type {\n",
       "        vertical-align: middle;\n",
       "    }\n",
       "\n",
       "    .dataframe tbody tr th {\n",
       "        vertical-align: top;\n",
       "    }\n",
       "\n",
       "    .dataframe thead th {\n",
       "        text-align: right;\n",
       "    }\n",
       "</style>\n",
       "<table border=\"1\" class=\"dataframe\">\n",
       "  <thead>\n",
       "    <tr style=\"text-align: right;\">\n",
       "      <th></th>\n",
       "      <th>#</th>\n",
       "      <th>Artist Name</th>\n",
       "      <th>Lead Streams</th>\n",
       "      <th>Featured Streams</th>\n",
       "      <th>Tracks</th>\n",
       "      <th>1b+</th>\n",
       "      <th>100m+</th>\n",
       "      <th>10m+</th>\n",
       "      <th>1m+</th>\n",
       "      <th>Last Update</th>\n",
       "    </tr>\n",
       "  </thead>\n",
       "  <tbody>\n",
       "    <tr>\n",
       "      <th>0</th>\n",
       "      <td>1</td>\n",
       "      <td>Drake</td>\n",
       "      <td>38,372,2...</td>\n",
       "      <td>15,053,3...</td>\n",
       "      <td>227</td>\n",
       "      <td>3</td>\n",
       "      <td>93</td>\n",
       "      <td>215</td>\n",
       "      <td>222</td>\n",
       "      <td>05/31/21</td>\n",
       "    </tr>\n",
       "    <tr>\n",
       "      <th>1</th>\n",
       "      <td>2</td>\n",
       "      <td>Ed Sheeran</td>\n",
       "      <td>28,896,5...</td>\n",
       "      <td>2,178,58...</td>\n",
       "      <td>177</td>\n",
       "      <td>6</td>\n",
       "      <td>52</td>\n",
       "      <td>140</td>\n",
       "      <td>161</td>\n",
       "      <td>05/31/21</td>\n",
       "    </tr>\n",
       "    <tr>\n",
       "      <th>2</th>\n",
       "      <td>3</td>\n",
       "      <td>Ariana G...</td>\n",
       "      <td>25,153,1...</td>\n",
       "      <td>1,629,67...</td>\n",
       "      <td>178</td>\n",
       "      <td>4</td>\n",
       "      <td>58</td>\n",
       "      <td>120</td>\n",
       "      <td>170</td>\n",
       "      <td>06/01/21</td>\n",
       "    </tr>\n",
       "    <tr>\n",
       "      <th>3</th>\n",
       "      <td>4</td>\n",
       "      <td>Bad Bunny</td>\n",
       "      <td>24,484,0...</td>\n",
       "      <td>3,756,30...</td>\n",
       "      <td>137</td>\n",
       "      <td>1</td>\n",
       "      <td>70</td>\n",
       "      <td>129</td>\n",
       "      <td>136</td>\n",
       "      <td>06/01/21</td>\n",
       "    </tr>\n",
       "    <tr>\n",
       "      <th>4</th>\n",
       "      <td>5</td>\n",
       "      <td>Post Malone</td>\n",
       "      <td>24,064,8...</td>\n",
       "      <td>2,078,90...</td>\n",
       "      <td>65</td>\n",
       "      <td>8</td>\n",
       "      <td>49</td>\n",
       "      <td>63</td>\n",
       "      <td>64</td>\n",
       "      <td>06/01/21</td>\n",
       "    </tr>\n",
       "  </tbody>\n",
       "</table>\n",
       "</div>"
      ],
      "text/plain": [
       "   #  Artist Name Lead Streams Featured Streams Tracks  1b+  100m+  10m+  1m+  \\\n",
       "0  1        Drake  38,372,2...  15,053,3...        227    3     93   215  222   \n",
       "1  2   Ed Sheeran  28,896,5...  2,178,58...        177    6     52   140  161   \n",
       "2  3  Ariana G...  25,153,1...  1,629,67...        178    4     58   120  170   \n",
       "3  4    Bad Bunny  24,484,0...  3,756,30...        137    1     70   129  136   \n",
       "4  5  Post Malone  24,064,8...  2,078,90...         65    8     49    63   64   \n",
       "\n",
       "  Last Update  \n",
       "0    05/31/21  \n",
       "1    05/31/21  \n",
       "2    06/01/21  \n",
       "3    06/01/21  \n",
       "4    06/01/21  "
      ]
     },
     "execution_count": 31,
     "metadata": {},
     "output_type": "execute_result"
    }
   ],
   "source": [
    "# Now lets create a dataframe\n",
    "\n",
    "Dict={title:column for (title,column) in col}\n",
    "html_df=pd.DataFrame(Dict)\n",
    "\n",
    "html_df.head()"
   ]
  },
  {
   "cell_type": "code",
   "execution_count": 32,
   "metadata": {},
   "outputs": [
    {
     "data": {
      "text/plain": [
       "(1000, 10)"
      ]
     },
     "execution_count": 32,
     "metadata": {},
     "output_type": "execute_result"
    }
   ],
   "source": [
    "html_df.shape"
   ]
  },
  {
   "cell_type": "markdown",
   "metadata": {},
   "source": [
    "There are 1000 records of top artists in the dataset with 10 attributes"
   ]
  },
  {
   "cell_type": "code",
   "execution_count": 33,
   "metadata": {
    "scrolled": true
   },
   "outputs": [
    {
     "data": {
      "text/plain": [
       "#                   object\n",
       "Artist Name         object\n",
       "Lead Streams        object\n",
       "Featured Streams    object\n",
       "Tracks              object\n",
       "1b+                  int64\n",
       "100m+                int64\n",
       "10m+                 int64\n",
       "1m+                  int64\n",
       "Last Update         object\n",
       "dtype: object"
      ]
     },
     "execution_count": 33,
     "metadata": {},
     "output_type": "execute_result"
    }
   ],
   "source": [
    "html_df.dtypes"
   ]
  },
  {
   "cell_type": "code",
   "execution_count": 34,
   "metadata": {},
   "outputs": [
    {
     "data": {
      "text/html": [
       "<div>\n",
       "<style scoped>\n",
       "    .dataframe tbody tr th:only-of-type {\n",
       "        vertical-align: middle;\n",
       "    }\n",
       "\n",
       "    .dataframe tbody tr th {\n",
       "        vertical-align: top;\n",
       "    }\n",
       "\n",
       "    .dataframe thead th {\n",
       "        text-align: right;\n",
       "    }\n",
       "</style>\n",
       "<table border=\"1\" class=\"dataframe\">\n",
       "  <thead>\n",
       "    <tr style=\"text-align: right;\">\n",
       "      <th></th>\n",
       "      <th>1b+</th>\n",
       "      <th>100m+</th>\n",
       "      <th>10m+</th>\n",
       "      <th>1m+</th>\n",
       "    </tr>\n",
       "  </thead>\n",
       "  <tbody>\n",
       "    <tr>\n",
       "      <th>count</th>\n",
       "      <td>1000.000000</td>\n",
       "      <td>1000.000000</td>\n",
       "      <td>1000.000000</td>\n",
       "      <td>1000.000000</td>\n",
       "    </tr>\n",
       "    <tr>\n",
       "      <th>mean</th>\n",
       "      <td>0.186000</td>\n",
       "      <td>6.571000</td>\n",
       "      <td>38.666000</td>\n",
       "      <td>104.461000</td>\n",
       "    </tr>\n",
       "    <tr>\n",
       "      <th>std</th>\n",
       "      <td>0.672202</td>\n",
       "      <td>8.602381</td>\n",
       "      <td>27.644505</td>\n",
       "      <td>65.101157</td>\n",
       "    </tr>\n",
       "    <tr>\n",
       "      <th>min</th>\n",
       "      <td>0.000000</td>\n",
       "      <td>0.000000</td>\n",
       "      <td>0.000000</td>\n",
       "      <td>10.000000</td>\n",
       "    </tr>\n",
       "    <tr>\n",
       "      <th>25%</th>\n",
       "      <td>0.000000</td>\n",
       "      <td>2.000000</td>\n",
       "      <td>20.000000</td>\n",
       "      <td>59.000000</td>\n",
       "    </tr>\n",
       "    <tr>\n",
       "      <th>50%</th>\n",
       "      <td>0.000000</td>\n",
       "      <td>4.000000</td>\n",
       "      <td>31.000000</td>\n",
       "      <td>89.000000</td>\n",
       "    </tr>\n",
       "    <tr>\n",
       "      <th>75%</th>\n",
       "      <td>0.000000</td>\n",
       "      <td>8.000000</td>\n",
       "      <td>48.000000</td>\n",
       "      <td>131.000000</td>\n",
       "    </tr>\n",
       "    <tr>\n",
       "      <th>max</th>\n",
       "      <td>8.000000</td>\n",
       "      <td>93.000000</td>\n",
       "      <td>215.000000</td>\n",
       "      <td>582.000000</td>\n",
       "    </tr>\n",
       "  </tbody>\n",
       "</table>\n",
       "</div>"
      ],
      "text/plain": [
       "               1b+        100m+         10m+          1m+\n",
       "count  1000.000000  1000.000000  1000.000000  1000.000000\n",
       "mean      0.186000     6.571000    38.666000   104.461000\n",
       "std       0.672202     8.602381    27.644505    65.101157\n",
       "min       0.000000     0.000000     0.000000    10.000000\n",
       "25%       0.000000     2.000000    20.000000    59.000000\n",
       "50%       0.000000     4.000000    31.000000    89.000000\n",
       "75%       0.000000     8.000000    48.000000   131.000000\n",
       "max       8.000000    93.000000   215.000000   582.000000"
      ]
     },
     "execution_count": 34,
     "metadata": {},
     "output_type": "execute_result"
    }
   ],
   "source": [
    "html_df.describe()"
   ]
  },
  {
   "cell_type": "markdown",
   "metadata": {},
   "source": [
    "From the above details we can make out that a there is a max of 8 tracks from a single artist which crossed 1 billion views."
   ]
  },
  {
   "cell_type": "code",
   "execution_count": 35,
   "metadata": {},
   "outputs": [
    {
     "name": "stdout",
     "output_type": "stream",
     "text": [
      "<class 'pandas.core.frame.DataFrame'>\n",
      "RangeIndex: 1000 entries, 0 to 999\n",
      "Data columns (total 10 columns):\n",
      " #   Column            Non-Null Count  Dtype \n",
      "---  ------            --------------  ----- \n",
      " 0   #                 1000 non-null   object\n",
      " 1   Artist Name       1000 non-null   object\n",
      " 2   Lead Streams      1000 non-null   object\n",
      " 3   Featured Streams  1000 non-null   object\n",
      " 4   Tracks            1000 non-null   object\n",
      " 5   1b+               1000 non-null   int64 \n",
      " 6   100m+             1000 non-null   int64 \n",
      " 7   10m+              1000 non-null   int64 \n",
      " 8   1m+               1000 non-null   int64 \n",
      " 9   Last Update       1000 non-null   object\n",
      "dtypes: int64(4), object(6)\n",
      "memory usage: 78.2+ KB\n"
     ]
    }
   ],
   "source": [
    "html_df.info()"
   ]
  },
  {
   "cell_type": "markdown",
   "metadata": {},
   "source": [
    "Among the 10 atributes, I wont be using ranking which is '# ','Featured Streams'(as we are only looking up at artist singles) and 'Last Update' attributes as they are not useful for my analysis."
   ]
  },
  {
   "cell_type": "code",
   "execution_count": 36,
   "metadata": {},
   "outputs": [],
   "source": [
    "html_df.drop(columns=['#','Featured Streams','Last Update'], inplace=True)"
   ]
  },
  {
   "cell_type": "code",
   "execution_count": 37,
   "metadata": {},
   "outputs": [
    {
     "name": "stdout",
     "output_type": "stream",
     "text": [
      "<class 'pandas.core.frame.DataFrame'>\n",
      "RangeIndex: 1000 entries, 0 to 999\n",
      "Data columns (total 7 columns):\n",
      " #   Column        Non-Null Count  Dtype \n",
      "---  ------        --------------  ----- \n",
      " 0   Artist Name   1000 non-null   object\n",
      " 1   Lead Streams  1000 non-null   object\n",
      " 2   Tracks        1000 non-null   object\n",
      " 3   1b+           1000 non-null   int64 \n",
      " 4   100m+         1000 non-null   int64 \n",
      " 5   10m+          1000 non-null   int64 \n",
      " 6   1m+           1000 non-null   int64 \n",
      "dtypes: int64(4), object(3)\n",
      "memory usage: 54.8+ KB\n"
     ]
    }
   ],
   "source": [
    "html_df.info()"
   ]
  },
  {
   "cell_type": "code",
   "execution_count": 38,
   "metadata": {},
   "outputs": [
    {
     "data": {
      "text/html": [
       "<div>\n",
       "<style scoped>\n",
       "    .dataframe tbody tr th:only-of-type {\n",
       "        vertical-align: middle;\n",
       "    }\n",
       "\n",
       "    .dataframe tbody tr th {\n",
       "        vertical-align: top;\n",
       "    }\n",
       "\n",
       "    .dataframe thead th {\n",
       "        text-align: right;\n",
       "    }\n",
       "</style>\n",
       "<table border=\"1\" class=\"dataframe\">\n",
       "  <thead>\n",
       "    <tr style=\"text-align: right;\">\n",
       "      <th></th>\n",
       "      <th>Artist Name</th>\n",
       "      <th>Lead Streams</th>\n",
       "      <th>Tracks</th>\n",
       "      <th>1b+</th>\n",
       "      <th>100m+</th>\n",
       "      <th>10m+</th>\n",
       "      <th>1m+</th>\n",
       "    </tr>\n",
       "  </thead>\n",
       "  <tbody>\n",
       "    <tr>\n",
       "      <th>0</th>\n",
       "      <td>Drake</td>\n",
       "      <td>38,372,2...</td>\n",
       "      <td>227</td>\n",
       "      <td>3</td>\n",
       "      <td>93</td>\n",
       "      <td>215</td>\n",
       "      <td>222</td>\n",
       "    </tr>\n",
       "    <tr>\n",
       "      <th>1</th>\n",
       "      <td>Ed Sheeran</td>\n",
       "      <td>28,896,5...</td>\n",
       "      <td>177</td>\n",
       "      <td>6</td>\n",
       "      <td>52</td>\n",
       "      <td>140</td>\n",
       "      <td>161</td>\n",
       "    </tr>\n",
       "    <tr>\n",
       "      <th>2</th>\n",
       "      <td>Ariana G...</td>\n",
       "      <td>25,153,1...</td>\n",
       "      <td>178</td>\n",
       "      <td>4</td>\n",
       "      <td>58</td>\n",
       "      <td>120</td>\n",
       "      <td>170</td>\n",
       "    </tr>\n",
       "    <tr>\n",
       "      <th>3</th>\n",
       "      <td>Bad Bunny</td>\n",
       "      <td>24,484,0...</td>\n",
       "      <td>137</td>\n",
       "      <td>1</td>\n",
       "      <td>70</td>\n",
       "      <td>129</td>\n",
       "      <td>136</td>\n",
       "    </tr>\n",
       "    <tr>\n",
       "      <th>4</th>\n",
       "      <td>Post Malone</td>\n",
       "      <td>24,064,8...</td>\n",
       "      <td>65</td>\n",
       "      <td>8</td>\n",
       "      <td>49</td>\n",
       "      <td>63</td>\n",
       "      <td>64</td>\n",
       "    </tr>\n",
       "  </tbody>\n",
       "</table>\n",
       "</div>"
      ],
      "text/plain": [
       "   Artist Name Lead Streams Tracks  1b+  100m+  10m+  1m+\n",
       "0        Drake  38,372,2...    227    3     93   215  222\n",
       "1   Ed Sheeran  28,896,5...    177    6     52   140  161\n",
       "2  Ariana G...  25,153,1...    178    4     58   120  170\n",
       "3    Bad Bunny  24,484,0...    137    1     70   129  136\n",
       "4  Post Malone  24,064,8...     65    8     49    63   64"
      ]
     },
     "execution_count": 38,
     "metadata": {},
     "output_type": "execute_result"
    }
   ],
   "source": [
    "html_df.head()"
   ]
  },
  {
   "cell_type": "code",
   "execution_count": 39,
   "metadata": {},
   "outputs": [],
   "source": [
    "html_df = html_df.rename(columns = {'Artist Name':'ArtistName','Lead Streams':'Lead_Streams','1b+': '1billion_plus_views', '100m+': '100million_plus_views', '10m+': '10million_plus_views', '1m+':'1million_plus_views' }, inplace = False)"
   ]
  },
  {
   "cell_type": "code",
   "execution_count": 40,
   "metadata": {},
   "outputs": [
    {
     "name": "stdout",
     "output_type": "stream",
     "text": [
      "<class 'pandas.core.frame.DataFrame'>\n",
      "RangeIndex: 1000 entries, 0 to 999\n",
      "Data columns (total 7 columns):\n",
      " #   Column                 Non-Null Count  Dtype \n",
      "---  ------                 --------------  ----- \n",
      " 0   ArtistName             1000 non-null   object\n",
      " 1   Lead_Streams           1000 non-null   object\n",
      " 2   Tracks                 1000 non-null   object\n",
      " 3   1billion_plus_views    1000 non-null   int64 \n",
      " 4   100million_plus_views  1000 non-null   int64 \n",
      " 5   10million_plus_views   1000 non-null   int64 \n",
      " 6   1million_plus_views    1000 non-null   int64 \n",
      "dtypes: int64(4), object(3)\n",
      "memory usage: 54.8+ KB\n"
     ]
    }
   ],
   "source": [
    "html_df.info()"
   ]
  },
  {
   "cell_type": "code",
   "execution_count": 41,
   "metadata": {},
   "outputs": [
    {
     "data": {
      "text/plain": [
       "ArtistName               False\n",
       "Lead_Streams             False\n",
       "Tracks                   False\n",
       "1billion_plus_views      False\n",
       "100million_plus_views    False\n",
       "10million_plus_views     False\n",
       "1million_plus_views      False\n",
       "dtype: bool"
      ]
     },
     "execution_count": 41,
     "metadata": {},
     "output_type": "execute_result"
    }
   ],
   "source": [
    "html_df.isnull().any()"
   ]
  },
  {
   "cell_type": "markdown",
   "metadata": {},
   "source": [
    "The data has no null values."
   ]
  },
  {
   "cell_type": "markdown",
   "metadata": {},
   "source": [
    "Now that the data is formatted by removing headers and updating column names, checking for null values(In this case the data looks good without nulls). I will now check if there are any outliers or bad data"
   ]
  },
  {
   "cell_type": "markdown",
   "metadata": {},
   "source": [
    "Before checking on the outliers I would like to convert the columns 'Lead Streams' and 'Tracks' from object type to Integer. For doing that I will remove the commas from these attribute values before typecasting."
   ]
  },
  {
   "cell_type": "markdown",
   "metadata": {},
   "source": [
    "'''\n",
    "cols=['Lead Streams','Tracks']\n",
    "for col in cols:\n",
    "    html_df[col]=html_df[col].str.replace(',','')\n",
    "    #html_df[col]=html_df[col].astype(str).astype(int)\n",
    "\n",
    "\n",
    "html_df['Tracks']=html_df['Tracks'].astype(int)\n",
    "html_df.dtypes\n",
    "'''"
   ]
  },
  {
   "cell_type": "code",
   "execution_count": 42,
   "metadata": {},
   "outputs": [
    {
     "data": {
      "text/plain": [
       "ArtistName               object\n",
       "Lead_Streams              int64\n",
       "Tracks                   object\n",
       "1billion_plus_views       int64\n",
       "100million_plus_views     int64\n",
       "10million_plus_views      int64\n",
       "1million_plus_views       int64\n",
       "dtype: object"
      ]
     },
     "execution_count": 42,
     "metadata": {},
     "output_type": "execute_result"
    }
   ],
   "source": [
    "html_df['Lead_Streams']=html_df['Lead_Streams'].str.replace(',','')\n",
    "html_df['Lead_Streams']=html_df['Lead_Streams'].astype(str).astype(int)\n",
    "\n",
    "html_df.dtypes"
   ]
  },
  {
   "cell_type": "code",
   "execution_count": 43,
   "metadata": {},
   "outputs": [
    {
     "name": "stdout",
     "output_type": "stream",
     "text": [
      "column :  Lead_Streams\n",
      "min :  998207667\n",
      "max :  38372256749\n",
      "column :  1billion_plus_views\n",
      "min :  0\n",
      "max :  8\n",
      "column :  100million_plus_views\n",
      "min :  0\n",
      "max :  93\n",
      "column :  10million_plus_views\n",
      "min :  0\n",
      "max :  215\n",
      "column :  1million_plus_views\n",
      "min :  10\n",
      "max :  582\n"
     ]
    }
   ],
   "source": [
    "cols = ['Lead_Streams', '1billion_plus_views', '100million_plus_views', '10million_plus_views', '1million_plus_views']\n",
    "for col in cols:\n",
    "    print(\"column : \",col)\n",
    "    print(\"min : \",html_df[col].min())\n",
    "    print(\"max : \",html_df[col].max())"
   ]
  },
  {
   "cell_type": "markdown",
   "metadata": {},
   "source": [
    "All the numeric values in the dataset looks good as per the attribute description. I dont find any bad data."
   ]
  },
  {
   "cell_type": "markdown",
   "metadata": {},
   "source": [
    "'\n",
    "import seaborn as sns\n",
    "sns.boxplot(x=html_df['Tracks'])\n",
    "'"
   ]
  },
  {
   "cell_type": "markdown",
   "metadata": {},
   "source": [
    "'\n",
    "Track counts of majority of artists in the list ranges from 1 to 200. Rest are considered as outliers here.\n",
    "'"
   ]
  },
  {
   "cell_type": "code",
   "execution_count": 44,
   "metadata": {},
   "outputs": [
    {
     "data": {
      "text/plain": [
       "<AxesSubplot:xlabel='1billion_plus_views'>"
      ]
     },
     "execution_count": 44,
     "metadata": {},
     "output_type": "execute_result"
    },
    {
     "data": {
      "image/png": "[encoded data removed]",
      "text/plain": [
       "<Figure size 432x288 with 1 Axes>"
      ]
     },
     "metadata": {
      "needs_background": "light"
     },
     "output_type": "display_data"
    }
   ],
   "source": [
    "import seaborn as sns\n",
    "sns.boxplot(x=html_df['1billion_plus_views'])"
   ]
  },
  {
   "cell_type": "markdown",
   "metadata": {},
   "source": [
    "There are very few artists whose track views crossed a billion. Hence all the data above zero is considered as outliers as they are very few in the list."
   ]
  },
  {
   "cell_type": "code",
   "execution_count": 45,
   "metadata": {},
   "outputs": [
    {
     "data": {
      "text/plain": [
       "<AxesSubplot:xlabel='10million_plus_views'>"
      ]
     },
     "execution_count": 45,
     "metadata": {},
     "output_type": "execute_result"
    },
    {
     "data": {
      "image/png": "[encoded data removed]",
      "text/plain": [
       "<Figure size 432x288 with 1 Axes>"
      ]
     },
     "metadata": {
      "needs_background": "light"
     },
     "output_type": "display_data"
    }
   ],
   "source": [
    "import seaborn as sns\n",
    "sns.boxplot(x=html_df['10million_plus_views'])"
   ]
  },
  {
   "cell_type": "markdown",
   "metadata": {},
   "source": [
    "Above plot for 10million_plus_views has outliers for number of tracks more than 85 for a single artist.Which means that most of the artists has 10 million views for around 20 to 50 tracks."
   ]
  },
  {
   "cell_type": "code",
   "execution_count": 46,
   "metadata": {},
   "outputs": [
    {
     "data": {
      "text/plain": [
       "<AxesSubplot:xlabel='1million_plus_views'>"
      ]
     },
     "execution_count": 46,
     "metadata": {},
     "output_type": "execute_result"
    },
    {
     "data": {
      "image/png": "[encoded data removed]",
      "text/plain": [
       "<Figure size 432x288 with 1 Axes>"
      ]
     },
     "metadata": {
      "needs_background": "light"
     },
     "output_type": "display_data"
    }
   ],
   "source": [
    "import seaborn as sns\n",
    "sns.boxplot(x=html_df['1million_plus_views'])"
   ]
  },
  {
   "cell_type": "markdown",
   "metadata": {},
   "source": [
    "Above plot for 1million_plus_views has outliers for number of tracks more than 230 for a single artist. Majority of artists has 50 to 150 tracks of them crossing a million. "
   ]
  },
  {
   "cell_type": "markdown",
   "metadata": {},
   "source": [
    "These observations(outliers)for all the above plots are not included in the box of other observations. But I wont exclude this data as I plan to analyize the artist's popularity and number of views is a basic measure to analyze this."
   ]
  },
  {
   "cell_type": "code",
   "execution_count": 47,
   "metadata": {},
   "outputs": [
    {
     "data": {
      "text/html": [
       "<div>\n",
       "<style scoped>\n",
       "    .dataframe tbody tr th:only-of-type {\n",
       "        vertical-align: middle;\n",
       "    }\n",
       "\n",
       "    .dataframe tbody tr th {\n",
       "        vertical-align: top;\n",
       "    }\n",
       "\n",
       "    .dataframe thead th {\n",
       "        text-align: right;\n",
       "    }\n",
       "</style>\n",
       "<table border=\"1\" class=\"dataframe\">\n",
       "  <thead>\n",
       "    <tr style=\"text-align: right;\">\n",
       "      <th></th>\n",
       "      <th>ArtistName</th>\n",
       "      <th>Lead_Streams</th>\n",
       "      <th>Tracks</th>\n",
       "      <th>1billion_plus_views</th>\n",
       "      <th>100million_plus_views</th>\n",
       "      <th>10million_plus_views</th>\n",
       "      <th>1million_plus_views</th>\n",
       "    </tr>\n",
       "  </thead>\n",
       "  <tbody>\n",
       "  </tbody>\n",
       "</table>\n",
       "</div>"
      ],
      "text/plain": [
       "Empty DataFrame\n",
       "Columns: [ArtistName, Lead_Streams, Tracks, 1billion_plus_views, 100million_plus_views, 10million_plus_views, 1million_plus_views]\n",
       "Index: []"
      ]
     },
     "execution_count": 47,
     "metadata": {},
     "output_type": "execute_result"
    }
   ],
   "source": [
    "duplicate = html_df[html_df.duplicated()]\n",
    "duplicate"
   ]
  },
  {
   "cell_type": "code",
   "execution_count": 48,
   "metadata": {},
   "outputs": [
    {
     "data": {
      "text/html": [
       "<div>\n",
       "<style scoped>\n",
       "    .dataframe tbody tr th:only-of-type {\n",
       "        vertical-align: middle;\n",
       "    }\n",
       "\n",
       "    .dataframe tbody tr th {\n",
       "        vertical-align: top;\n",
       "    }\n",
       "\n",
       "    .dataframe thead th {\n",
       "        text-align: right;\n",
       "    }\n",
       "</style>\n",
       "<table border=\"1\" class=\"dataframe\">\n",
       "  <thead>\n",
       "    <tr style=\"text-align: right;\">\n",
       "      <th></th>\n",
       "      <th>ArtistName</th>\n",
       "      <th>Lead_Streams</th>\n",
       "      <th>Tracks</th>\n",
       "      <th>1billion_plus_views</th>\n",
       "      <th>100million_plus_views</th>\n",
       "      <th>10million_plus_views</th>\n",
       "      <th>1million_plus_views</th>\n",
       "    </tr>\n",
       "  </thead>\n",
       "  <tbody>\n",
       "  </tbody>\n",
       "</table>\n",
       "</div>"
      ],
      "text/plain": [
       "Empty DataFrame\n",
       "Columns: [ArtistName, Lead_Streams, Tracks, 1billion_plus_views, 100million_plus_views, 10million_plus_views, 1million_plus_views]\n",
       "Index: []"
      ]
     },
     "execution_count": 48,
     "metadata": {},
     "output_type": "execute_result"
    }
   ],
   "source": [
    "duplicate = html_df[html_df.duplicated('ArtistName')]\n",
    "duplicate"
   ]
  },
  {
   "cell_type": "markdown",
   "metadata": {},
   "source": [
    "This shows that there are no duplicate records and the artist names are also unique. Now the HTML data looks good and is ready for the EDA."
   ]
  },
  {
   "cell_type": "markdown",
   "metadata": {},
   "source": [
    "######  API Source"
   ]
  },
  {
   "cell_type": "markdown",
   "metadata": {},
   "source": [
    "API Endpoint - GET https://api.spotify.com/v1/artists/{id}\n",
    "\n",
    "API documentation URL - https://developer.spotify.com/documentation/web-api/reference/#endpoint-get-an-artist"
   ]
  },
  {
   "cell_type": "markdown",
   "metadata": {},
   "source": [
    "To get Spotify catalog information for a single artist identified by their unique Spotify ID. API calls were done passing artist_id from the tracks.csv file. To do this I extracted artist_ids whose tracks  popularity value is greater than 70 as the tracks dataset is too huge. By doing this, I get a list of 1737 artist ids which I would use to get the api data."
   ]
  },
  {
   "cell_type": "markdown",
   "metadata": {},
   "source": [
    "Dataset attibutes overview\n",
    "\n",
    "    external_urls – Known external URLs for this artist.\n",
    "    Followers - Information about the followers of the artist.\n",
    "    Genres - A list of the genres the artist is associated with.\n",
    "    Href - A link to the Web API endpoint providing full details of the artist.\n",
    "    Id – The Spotify ID for the artist.\n",
    "    Images - Images of the artist in various sizes, widest first.\n",
    "    Name - The name of the artist.\n",
    "    Popularity - The popularity of the artist. The value will be between 0 and 100, with 100 being the most popular.                    The artist’s popularity is calculated from the popularity of all the artist’s tracks.\n",
    "    Type – The object type: \"artist\"\n",
    "    Uri - The Spotify URI for the artist.\n",
    "\n",
    "\n"
   ]
  },
  {
   "cell_type": "code",
   "execution_count": 49,
   "metadata": {},
   "outputs": [],
   "source": [
    "import pandas as pd\n",
    "import spotipy\n",
    "from spotipy.oauth2 import SpotifyClientCredentials #To access authorised Spotify data\n",
    "import json\n",
    "import timeit"
   ]
  },
  {
   "cell_type": "code",
   "execution_count": 50,
   "metadata": {},
   "outputs": [],
   "source": [
    "pd.set_option(\"display.max_columns\", 100)"
   ]
  },
  {
   "cell_type": "code",
   "execution_count": 51,
   "metadata": {},
   "outputs": [
    {
     "data": {
      "text/html": [
       "<div>\n",
       "<style scoped>\n",
       "    .dataframe tbody tr th:only-of-type {\n",
       "        vertical-align: middle;\n",
       "    }\n",
       "\n",
       "    .dataframe tbody tr th {\n",
       "        vertical-align: top;\n",
       "    }\n",
       "\n",
       "    .dataframe thead th {\n",
       "        text-align: right;\n",
       "    }\n",
       "</style>\n",
       "<table border=\"1\" class=\"dataframe\">\n",
       "  <thead>\n",
       "    <tr style=\"text-align: right;\">\n",
       "      <th></th>\n",
       "      <th>id</th>\n",
       "      <th>name</th>\n",
       "      <th>popularity</th>\n",
       "      <th>duration_ms</th>\n",
       "      <th>explicit</th>\n",
       "      <th>artists</th>\n",
       "      <th>id_artists</th>\n",
       "      <th>release_date</th>\n",
       "      <th>danceability</th>\n",
       "      <th>energy</th>\n",
       "      <th>key</th>\n",
       "      <th>loudness</th>\n",
       "      <th>mode</th>\n",
       "      <th>speechiness</th>\n",
       "      <th>acousticness</th>\n",
       "      <th>instrumentalness</th>\n",
       "      <th>liveness</th>\n",
       "      <th>valence</th>\n",
       "      <th>tempo</th>\n",
       "      <th>time_signature</th>\n",
       "    </tr>\n",
       "  </thead>\n",
       "  <tbody>\n",
       "    <tr>\n",
       "      <th>0</th>\n",
       "      <td>35iwgR4j...</td>\n",
       "      <td>Carve</td>\n",
       "      <td>6</td>\n",
       "      <td>126903</td>\n",
       "      <td>0</td>\n",
       "      <td>['Uli']</td>\n",
       "      <td>['45tIt0...</td>\n",
       "      <td>1922-02-22</td>\n",
       "      <td>0.645</td>\n",
       "      <td>0.4450</td>\n",
       "      <td>0</td>\n",
       "      <td>-13.338</td>\n",
       "      <td>1</td>\n",
       "      <td>0.4510</td>\n",
       "      <td>0.674</td>\n",
       "      <td>0.7440</td>\n",
       "      <td>0.151</td>\n",
       "      <td>0.127</td>\n",
       "      <td>104.851</td>\n",
       "      <td>3</td>\n",
       "    </tr>\n",
       "    <tr>\n",
       "      <th>1</th>\n",
       "      <td>021ht4sd...</td>\n",
       "      <td>Capítulo...</td>\n",
       "      <td>0</td>\n",
       "      <td>98200</td>\n",
       "      <td>0</td>\n",
       "      <td>['Fernan...</td>\n",
       "      <td>['14jtPC...</td>\n",
       "      <td>1922-06-01</td>\n",
       "      <td>0.695</td>\n",
       "      <td>0.2630</td>\n",
       "      <td>0</td>\n",
       "      <td>-22.136</td>\n",
       "      <td>1</td>\n",
       "      <td>0.9570</td>\n",
       "      <td>0.797</td>\n",
       "      <td>0.0000</td>\n",
       "      <td>0.148</td>\n",
       "      <td>0.655</td>\n",
       "      <td>102.009</td>\n",
       "      <td>1</td>\n",
       "    </tr>\n",
       "    <tr>\n",
       "      <th>2</th>\n",
       "      <td>07A5yeht...</td>\n",
       "      <td>Vivo par...</td>\n",
       "      <td>0</td>\n",
       "      <td>181640</td>\n",
       "      <td>0</td>\n",
       "      <td>['Ignaci...</td>\n",
       "      <td>['5LiOoJ...</td>\n",
       "      <td>1922-03-21</td>\n",
       "      <td>0.434</td>\n",
       "      <td>0.1770</td>\n",
       "      <td>1</td>\n",
       "      <td>-21.180</td>\n",
       "      <td>1</td>\n",
       "      <td>0.0512</td>\n",
       "      <td>0.994</td>\n",
       "      <td>0.0218</td>\n",
       "      <td>0.212</td>\n",
       "      <td>0.457</td>\n",
       "      <td>130.418</td>\n",
       "      <td>5</td>\n",
       "    </tr>\n",
       "    <tr>\n",
       "      <th>3</th>\n",
       "      <td>08FmqUhx...</td>\n",
       "      <td>El Prisi...</td>\n",
       "      <td>0</td>\n",
       "      <td>176907</td>\n",
       "      <td>0</td>\n",
       "      <td>['Ignaci...</td>\n",
       "      <td>['5LiOoJ...</td>\n",
       "      <td>1922-03-21</td>\n",
       "      <td>0.321</td>\n",
       "      <td>0.0946</td>\n",
       "      <td>7</td>\n",
       "      <td>-27.961</td>\n",
       "      <td>1</td>\n",
       "      <td>0.0504</td>\n",
       "      <td>0.995</td>\n",
       "      <td>0.9180</td>\n",
       "      <td>0.104</td>\n",
       "      <td>0.397</td>\n",
       "      <td>169.980</td>\n",
       "      <td>3</td>\n",
       "    </tr>\n",
       "    <tr>\n",
       "      <th>4</th>\n",
       "      <td>08y9Gfoq...</td>\n",
       "      <td>Lady of ...</td>\n",
       "      <td>0</td>\n",
       "      <td>163080</td>\n",
       "      <td>0</td>\n",
       "      <td>['Dick H...</td>\n",
       "      <td>['3BiJGZ...</td>\n",
       "      <td>1922</td>\n",
       "      <td>0.402</td>\n",
       "      <td>0.1580</td>\n",
       "      <td>3</td>\n",
       "      <td>-16.900</td>\n",
       "      <td>0</td>\n",
       "      <td>0.0390</td>\n",
       "      <td>0.989</td>\n",
       "      <td>0.1300</td>\n",
       "      <td>0.311</td>\n",
       "      <td>0.196</td>\n",
       "      <td>103.220</td>\n",
       "      <td>4</td>\n",
       "    </tr>\n",
       "  </tbody>\n",
       "</table>\n",
       "</div>"
      ],
      "text/plain": [
       "            id         name  popularity  duration_ms  explicit      artists  \\\n",
       "0  35iwgR4j...        Carve           6       126903         0      ['Uli']   \n",
       "1  021ht4sd...  Capítulo...           0        98200         0  ['Fernan...   \n",
       "2  07A5yeht...  Vivo par...           0       181640         0  ['Ignaci...   \n",
       "3  08FmqUhx...  El Prisi...           0       176907         0  ['Ignaci...   \n",
       "4  08y9Gfoq...  Lady of ...           0       163080         0  ['Dick H...   \n",
       "\n",
       "    id_artists release_date  danceability  energy  key  loudness  mode  \\\n",
       "0  ['45tIt0...   1922-02-22        0.645   0.4450    0   -13.338     1   \n",
       "1  ['14jtPC...   1922-06-01        0.695   0.2630    0   -22.136     1   \n",
       "2  ['5LiOoJ...   1922-03-21        0.434   0.1770    1   -21.180     1   \n",
       "3  ['5LiOoJ...   1922-03-21        0.321   0.0946    7   -27.961     1   \n",
       "4  ['3BiJGZ...         1922        0.402   0.1580    3   -16.900     0   \n",
       "\n",
       "   speechiness  acousticness  instrumentalness  liveness  valence    tempo  \\\n",
       "0       0.4510        0.674        0.7440          0.151    0.127  104.851   \n",
       "1       0.9570        0.797        0.0000          0.148    0.655  102.009   \n",
       "2       0.0512        0.994        0.0218          0.212    0.457  130.418   \n",
       "3       0.0504        0.995        0.9180          0.104    0.397  169.980   \n",
       "4       0.0390        0.989        0.1300          0.311    0.196  103.220   \n",
       "\n",
       "   time_signature  \n",
       "0            3     \n",
       "1            1     \n",
       "2            5     \n",
       "3            3     \n",
       "4            4     "
      ]
     },
     "execution_count": 51,
     "metadata": {},
     "output_type": "execute_result"
    }
   ],
   "source": [
    "## csv file\n",
    "# Loading tracks data in dataframe\n",
    "tracks = pd.read_csv('tracks.csv')\n",
    "\n",
    "tracks.head()"
   ]
  },
  {
   "cell_type": "markdown",
   "metadata": {},
   "source": [
    "Accesing Spotify API"
   ]
  },
  {
   "cell_type": "code",
   "execution_count": 52,
   "metadata": {},
   "outputs": [],
   "source": [
    "client_id = 'dcf584233ff048deb12ad60850f08e97'\n",
    "client_secret = 'fdfbeee1094e4c72a85bb7d8c2eaf907'\n",
    "client_credentials_manager = SpotifyClientCredentials(client_id=client_id, client_secret=client_secret)\n",
    "sp_api = spotipy.Spotify(client_credentials_manager=client_credentials_manager) #spotify object to access API"
   ]
  },
  {
   "cell_type": "markdown",
   "metadata": {},
   "source": [
    "From tracks_df I will filter artist data whose track popularity for atleast one song is more than 70."
   ]
  },
  {
   "cell_type": "code",
   "execution_count": 53,
   "metadata": {
    "scrolled": true
   },
   "outputs": [
    {
     "data": {
      "text/plain": [
       "31498     71\n",
       "31499     71\n",
       "32498     77\n",
       "33498     77\n",
       "33499     71\n",
       "          ..\n",
       "584916    72\n",
       "585189    72\n",
       "585190    71\n",
       "585191    71\n",
       "586668    72\n",
       "Name: popularity, Length: 4257, dtype: int64"
      ]
     },
     "execution_count": 53,
     "metadata": {},
     "output_type": "execute_result"
    }
   ],
   "source": [
    "tracks_filter= tracks.filter([\"id_artists\", \"popularity\"])\n",
    "\n",
    "tracks_filter = tracks_filter[~tracks_filter.id_artists.str.contains(\",\")]\n",
    "\n",
    "tracks_filter=  tracks_filter[(tracks_filter.popularity) >70 ]\n",
    "tracks_filter.pop(\"popularity\")"
   ]
  },
  {
   "cell_type": "markdown",
   "metadata": {},
   "source": [
    "Get the unique artist_id list which we can use to extract API data"
   ]
  },
  {
   "cell_type": "code",
   "execution_count": 54,
   "metadata": {},
   "outputs": [
    {
     "data": {
      "text/plain": [
       "1737"
      ]
     },
     "execution_count": 54,
     "metadata": {},
     "output_type": "execute_result"
    }
   ],
   "source": [
    "tracks_filter = tracks_filter.id_artists.unique()\n",
    "tracks_filter.shape[0]"
   ]
  },
  {
   "cell_type": "code",
   "execution_count": 55,
   "metadata": {},
   "outputs": [],
   "source": [
    "tic = timeit.default_timer()"
   ]
  },
  {
   "cell_type": "markdown",
   "metadata": {},
   "source": [
    "Lets load the data returned by spotify API to a file"
   ]
  },
  {
   "cell_type": "code",
   "execution_count": 56,
   "metadata": {},
   "outputs": [],
   "source": [
    "with open('artist.json', 'w') as f:\n",
    "    for id in tracks_filter:\n",
    "        try:\n",
    "            idnew = id.replace(\"['\",\"\").replace(\"']\",\"\")\n",
    "            result = sp_api.artist(idnew)\n",
    "            json.dump(result, f)\n",
    "            f.write('\\n')\n",
    "        except:\n",
    "            continue\n",
    "\n",
    "f.close()"
   ]
  },
  {
   "cell_type": "code",
   "execution_count": 57,
   "metadata": {},
   "outputs": [
    {
     "name": "stdout",
     "output_type": "stream",
     "text": [
      "time to import data in dataframe :  170.93431265700002\n"
     ]
    }
   ],
   "source": [
    "toc = timeit.default_timer()\n",
    "print(\"time to import data in dataframe : \",toc-tic)"
   ]
  },
  {
   "cell_type": "markdown",
   "metadata": {},
   "source": [
    "Loading the data from json file to a dataframe"
   ]
  },
  {
   "cell_type": "code",
   "execution_count": 58,
   "metadata": {},
   "outputs": [
    {
     "name": "stdout",
     "output_type": "stream",
     "text": [
      "<class 'pandas.core.frame.DataFrame'>\n",
      "RangeIndex: 1737 entries, 0 to 1736\n",
      "Data columns (total 10 columns):\n",
      " #   Column         Non-Null Count  Dtype \n",
      "---  ------         --------------  ----- \n",
      " 0   external_urls  1737 non-null   object\n",
      " 1   followers      1737 non-null   object\n",
      " 2   genres         1737 non-null   object\n",
      " 3   href           1737 non-null   object\n",
      " 4   id             1737 non-null   object\n",
      " 5   images         1737 non-null   object\n",
      " 6   name           1737 non-null   object\n",
      " 7   popularity     1737 non-null   int64 \n",
      " 8   type           1737 non-null   object\n",
      " 9   uri            1737 non-null   object\n",
      "dtypes: int64(1), object(9)\n",
      "memory usage: 135.8+ KB\n"
     ]
    }
   ],
   "source": [
    "json_df = pd.read_json (r'artist.json', lines=True)\n",
    "json_df.info()"
   ]
  },
  {
   "cell_type": "code",
   "execution_count": 59,
   "metadata": {
    "scrolled": true
   },
   "outputs": [
    {
     "data": {
      "text/html": [
       "<div>\n",
       "<style scoped>\n",
       "    .dataframe tbody tr th:only-of-type {\n",
       "        vertical-align: middle;\n",
       "    }\n",
       "\n",
       "    .dataframe tbody tr th {\n",
       "        vertical-align: top;\n",
       "    }\n",
       "\n",
       "    .dataframe thead th {\n",
       "        text-align: right;\n",
       "    }\n",
       "</style>\n",
       "<table border=\"1\" class=\"dataframe\">\n",
       "  <thead>\n",
       "    <tr style=\"text-align: right;\">\n",
       "      <th></th>\n",
       "      <th>external_urls</th>\n",
       "      <th>followers</th>\n",
       "      <th>genres</th>\n",
       "      <th>href</th>\n",
       "      <th>id</th>\n",
       "      <th>images</th>\n",
       "      <th>name</th>\n",
       "      <th>popularity</th>\n",
       "      <th>type</th>\n",
       "      <th>uri</th>\n",
       "    </tr>\n",
       "  </thead>\n",
       "  <tbody>\n",
       "    <tr>\n",
       "      <th>0</th>\n",
       "      <td>{'spotif...</td>\n",
       "      <td>{'href':...</td>\n",
       "      <td>[jazz bl...</td>\n",
       "      <td>https://...</td>\n",
       "      <td>7G1GBhoK...</td>\n",
       "      <td>[{'heigh...</td>\n",
       "      <td>Nina Simone</td>\n",
       "      <td>74</td>\n",
       "      <td>artist</td>\n",
       "      <td>spotify:...</td>\n",
       "    </tr>\n",
       "    <tr>\n",
       "      <th>1</th>\n",
       "      <td>{'spotif...</td>\n",
       "      <td>{'href':...</td>\n",
       "      <td>[adult s...</td>\n",
       "      <td>https://...</td>\n",
       "      <td>43ZHCT0c...</td>\n",
       "      <td>[{'heigh...</td>\n",
       "      <td>Elvis Pr...</td>\n",
       "      <td>82</td>\n",
       "      <td>artist</td>\n",
       "      <td>spotify:...</td>\n",
       "    </tr>\n",
       "    <tr>\n",
       "      <th>2</th>\n",
       "      <td>{'spotif...</td>\n",
       "      <td>{'href':...</td>\n",
       "      <td>[adult s...</td>\n",
       "      <td>https://...</td>\n",
       "      <td>293zczrf...</td>\n",
       "      <td>[{'heigh...</td>\n",
       "      <td>Chuck Berry</td>\n",
       "      <td>71</td>\n",
       "      <td>artist</td>\n",
       "      <td>spotify:...</td>\n",
       "    </tr>\n",
       "    <tr>\n",
       "      <th>3</th>\n",
       "      <td>{'spotif...</td>\n",
       "      <td>{'href':...</td>\n",
       "      <td>[adult s...</td>\n",
       "      <td>https://...</td>\n",
       "      <td>0iOVhN3t...</td>\n",
       "      <td>[{'heigh...</td>\n",
       "      <td>Etta James</td>\n",
       "      <td>72</td>\n",
       "      <td>artist</td>\n",
       "      <td>spotify:...</td>\n",
       "    </tr>\n",
       "    <tr>\n",
       "      <th>4</th>\n",
       "      <td>{'spotif...</td>\n",
       "      <td>{'href':...</td>\n",
       "      <td>[adult s...</td>\n",
       "      <td>https://...</td>\n",
       "      <td>3plJVWt8...</td>\n",
       "      <td>[{'heigh...</td>\n",
       "      <td>Ben E. King</td>\n",
       "      <td>69</td>\n",
       "      <td>artist</td>\n",
       "      <td>spotify:...</td>\n",
       "    </tr>\n",
       "    <tr>\n",
       "      <th>5</th>\n",
       "      <td>{'spotif...</td>\n",
       "      <td>{'href':...</td>\n",
       "      <td>[adult s...</td>\n",
       "      <td>https://...</td>\n",
       "      <td>0JDkhL4r...</td>\n",
       "      <td>[{'heigh...</td>\n",
       "      <td>Roy Orbison</td>\n",
       "      <td>71</td>\n",
       "      <td>artist</td>\n",
       "      <td>spotify:...</td>\n",
       "    </tr>\n",
       "    <tr>\n",
       "      <th>6</th>\n",
       "      <td>{'spotif...</td>\n",
       "      <td>{'href':...</td>\n",
       "      <td>[beatles...</td>\n",
       "      <td>https://...</td>\n",
       "      <td>3WrFJ7zt...</td>\n",
       "      <td>[{'heigh...</td>\n",
       "      <td>The Beatles</td>\n",
       "      <td>89</td>\n",
       "      <td>artist</td>\n",
       "      <td>spotify:...</td>\n",
       "    </tr>\n",
       "    <tr>\n",
       "      <th>7</th>\n",
       "      <td>{'spotif...</td>\n",
       "      <td>{'href':...</td>\n",
       "      <td>[baroque...</td>\n",
       "      <td>https://...</td>\n",
       "      <td>3oDbviii...</td>\n",
       "      <td>[{'heigh...</td>\n",
       "      <td>The Beac...</td>\n",
       "      <td>78</td>\n",
       "      <td>artist</td>\n",
       "      <td>spotify:...</td>\n",
       "    </tr>\n",
       "    <tr>\n",
       "      <th>8</th>\n",
       "      <td>{'spotif...</td>\n",
       "      <td>{'href':...</td>\n",
       "      <td>[arkansa...</td>\n",
       "      <td>https://...</td>\n",
       "      <td>6kACVPfC...</td>\n",
       "      <td>[{'heigh...</td>\n",
       "      <td>Johnny Cash</td>\n",
       "      <td>80</td>\n",
       "      <td>artist</td>\n",
       "      <td>spotify:...</td>\n",
       "    </tr>\n",
       "    <tr>\n",
       "      <th>9</th>\n",
       "      <td>{'spotif...</td>\n",
       "      <td>{'href':...</td>\n",
       "      <td>[classic...</td>\n",
       "      <td>https://...</td>\n",
       "      <td>74ASZWbe...</td>\n",
       "      <td>[{'heigh...</td>\n",
       "      <td>Bob Dylan</td>\n",
       "      <td>79</td>\n",
       "      <td>artist</td>\n",
       "      <td>spotify:...</td>\n",
       "    </tr>\n",
       "    <tr>\n",
       "      <th>10</th>\n",
       "      <td>{'spotif...</td>\n",
       "      <td>{'href':...</td>\n",
       "      <td>[classic...</td>\n",
       "      <td>https://...</td>\n",
       "      <td>70cRZdQy...</td>\n",
       "      <td>[{'heigh...</td>\n",
       "      <td>Simon &amp; ...</td>\n",
       "      <td>77</td>\n",
       "      <td>artist</td>\n",
       "      <td>spotify:...</td>\n",
       "    </tr>\n",
       "    <tr>\n",
       "      <th>11</th>\n",
       "      <td>{'spotif...</td>\n",
       "      <td>{'href':...</td>\n",
       "      <td>[album r...</td>\n",
       "      <td>https://...</td>\n",
       "      <td>1SQRv42e...</td>\n",
       "      <td>[{'heigh...</td>\n",
       "      <td>The Kinks</td>\n",
       "      <td>73</td>\n",
       "      <td>artist</td>\n",
       "      <td>spotify:...</td>\n",
       "    </tr>\n",
       "    <tr>\n",
       "      <th>12</th>\n",
       "      <td>{'spotif...</td>\n",
       "      <td>{'href':...</td>\n",
       "      <td>[brill b...</td>\n",
       "      <td>https://...</td>\n",
       "      <td>3RwQ26hR...</td>\n",
       "      <td>[{'heigh...</td>\n",
       "      <td>The Temp...</td>\n",
       "      <td>73</td>\n",
       "      <td>artist</td>\n",
       "      <td>spotify:...</td>\n",
       "    </tr>\n",
       "    <tr>\n",
       "      <th>13</th>\n",
       "      <td>{'spotif...</td>\n",
       "      <td>{'href':...</td>\n",
       "      <td>[british...</td>\n",
       "      <td>https://...</td>\n",
       "      <td>22bE4uQ6...</td>\n",
       "      <td>[{'heigh...</td>\n",
       "      <td>The Roll...</td>\n",
       "      <td>84</td>\n",
       "      <td>artist</td>\n",
       "      <td>spotify:...</td>\n",
       "    </tr>\n",
       "    <tr>\n",
       "      <th>14</th>\n",
       "      <td>{'spotif...</td>\n",
       "      <td>{'href':...</td>\n",
       "      <td>[adult s...</td>\n",
       "      <td>https://...</td>\n",
       "      <td>7fIvjoti...</td>\n",
       "      <td>[{'heigh...</td>\n",
       "      <td>Four Tops</td>\n",
       "      <td>69</td>\n",
       "      <td>artist</td>\n",
       "      <td>spotify:...</td>\n",
       "    </tr>\n",
       "    <tr>\n",
       "      <th>15</th>\n",
       "      <td>{'spotif...</td>\n",
       "      <td>{'href':...</td>\n",
       "      <td>[adult s...</td>\n",
       "      <td>https://...</td>\n",
       "      <td>4b0WsB47...</td>\n",
       "      <td>[{'heigh...</td>\n",
       "      <td>The Righ...</td>\n",
       "      <td>67</td>\n",
       "      <td>artist</td>\n",
       "      <td>spotify:...</td>\n",
       "    </tr>\n",
       "    <tr>\n",
       "      <th>16</th>\n",
       "      <td>{'spotif...</td>\n",
       "      <td>{'href':...</td>\n",
       "      <td>[adult s...</td>\n",
       "      <td>https://...</td>\n",
       "      <td>1T0wRBO0...</td>\n",
       "      <td>[{'heigh...</td>\n",
       "      <td>Tom Jones</td>\n",
       "      <td>69</td>\n",
       "      <td>artist</td>\n",
       "      <td>spotify:...</td>\n",
       "    </tr>\n",
       "    <tr>\n",
       "      <th>17</th>\n",
       "      <td>{'spotif...</td>\n",
       "      <td>{'href':...</td>\n",
       "      <td>[brill b...</td>\n",
       "      <td>https://...</td>\n",
       "      <td>1bs7HoMk...</td>\n",
       "      <td>[{'heigh...</td>\n",
       "      <td>The Mama...</td>\n",
       "      <td>71</td>\n",
       "      <td>artist</td>\n",
       "      <td>spotify:...</td>\n",
       "    </tr>\n",
       "    <tr>\n",
       "      <th>18</th>\n",
       "      <td>{'spotif...</td>\n",
       "      <td>{'href':...</td>\n",
       "      <td>[blues r...</td>\n",
       "      <td>https://...</td>\n",
       "      <td>3eskO5m0...</td>\n",
       "      <td>[{'heigh...</td>\n",
       "      <td>Buffalo ...</td>\n",
       "      <td>65</td>\n",
       "      <td>artist</td>\n",
       "      <td>spotify:...</td>\n",
       "    </tr>\n",
       "    <tr>\n",
       "      <th>19</th>\n",
       "      <td>{'spotif...</td>\n",
       "      <td>{'href':...</td>\n",
       "      <td>[adult s...</td>\n",
       "      <td>https://...</td>\n",
       "      <td>57bUPid8...</td>\n",
       "      <td>[{'heigh...</td>\n",
       "      <td>The Supr...</td>\n",
       "      <td>70</td>\n",
       "      <td>artist</td>\n",
       "      <td>spotify:...</td>\n",
       "    </tr>\n",
       "  </tbody>\n",
       "</table>\n",
       "</div>"
      ],
      "text/plain": [
       "   external_urls    followers       genres         href           id  \\\n",
       "0   {'spotif...   {'href':...  [jazz bl...  https://...  7G1GBhoK...   \n",
       "1   {'spotif...   {'href':...  [adult s...  https://...  43ZHCT0c...   \n",
       "2   {'spotif...   {'href':...  [adult s...  https://...  293zczrf...   \n",
       "3   {'spotif...   {'href':...  [adult s...  https://...  0iOVhN3t...   \n",
       "4   {'spotif...   {'href':...  [adult s...  https://...  3plJVWt8...   \n",
       "5   {'spotif...   {'href':...  [adult s...  https://...  0JDkhL4r...   \n",
       "6   {'spotif...   {'href':...  [beatles...  https://...  3WrFJ7zt...   \n",
       "7   {'spotif...   {'href':...  [baroque...  https://...  3oDbviii...   \n",
       "8   {'spotif...   {'href':...  [arkansa...  https://...  6kACVPfC...   \n",
       "9   {'spotif...   {'href':...  [classic...  https://...  74ASZWbe...   \n",
       "10  {'spotif...   {'href':...  [classic...  https://...  70cRZdQy...   \n",
       "11  {'spotif...   {'href':...  [album r...  https://...  1SQRv42e...   \n",
       "12  {'spotif...   {'href':...  [brill b...  https://...  3RwQ26hR...   \n",
       "13  {'spotif...   {'href':...  [british...  https://...  22bE4uQ6...   \n",
       "14  {'spotif...   {'href':...  [adult s...  https://...  7fIvjoti...   \n",
       "15  {'spotif...   {'href':...  [adult s...  https://...  4b0WsB47...   \n",
       "16  {'spotif...   {'href':...  [adult s...  https://...  1T0wRBO0...   \n",
       "17  {'spotif...   {'href':...  [brill b...  https://...  1bs7HoMk...   \n",
       "18  {'spotif...   {'href':...  [blues r...  https://...  3eskO5m0...   \n",
       "19  {'spotif...   {'href':...  [adult s...  https://...  57bUPid8...   \n",
       "\n",
       "         images         name  popularity    type          uri  \n",
       "0   [{'heigh...  Nina Simone          74  artist  spotify:...  \n",
       "1   [{'heigh...  Elvis Pr...          82  artist  spotify:...  \n",
       "2   [{'heigh...  Chuck Berry          71  artist  spotify:...  \n",
       "3   [{'heigh...   Etta James          72  artist  spotify:...  \n",
       "4   [{'heigh...  Ben E. King          69  artist  spotify:...  \n",
       "5   [{'heigh...  Roy Orbison          71  artist  spotify:...  \n",
       "6   [{'heigh...  The Beatles          89  artist  spotify:...  \n",
       "7   [{'heigh...  The Beac...          78  artist  spotify:...  \n",
       "8   [{'heigh...  Johnny Cash          80  artist  spotify:...  \n",
       "9   [{'heigh...    Bob Dylan          79  artist  spotify:...  \n",
       "10  [{'heigh...  Simon & ...          77  artist  spotify:...  \n",
       "11  [{'heigh...    The Kinks          73  artist  spotify:...  \n",
       "12  [{'heigh...  The Temp...          73  artist  spotify:...  \n",
       "13  [{'heigh...  The Roll...          84  artist  spotify:...  \n",
       "14  [{'heigh...    Four Tops          69  artist  spotify:...  \n",
       "15  [{'heigh...  The Righ...          67  artist  spotify:...  \n",
       "16  [{'heigh...    Tom Jones          69  artist  spotify:...  \n",
       "17  [{'heigh...  The Mama...          71  artist  spotify:...  \n",
       "18  [{'heigh...  Buffalo ...          65  artist  spotify:...  \n",
       "19  [{'heigh...  The Supr...          70  artist  spotify:...  "
      ]
     },
     "execution_count": 59,
     "metadata": {},
     "output_type": "execute_result"
    }
   ],
   "source": [
    "json_df.head(20)"
   ]
  },
  {
   "cell_type": "code",
   "execution_count": 60,
   "metadata": {},
   "outputs": [
    {
     "data": {
      "text/plain": [
       "(1737, 10)"
      ]
     },
     "execution_count": 60,
     "metadata": {},
     "output_type": "execute_result"
    }
   ],
   "source": [
    "json_df.shape"
   ]
  },
  {
   "cell_type": "markdown",
   "metadata": {},
   "source": [
    "There are 1737 artist information in the dataset with 10 columns."
   ]
  },
  {
   "cell_type": "code",
   "execution_count": 61,
   "metadata": {},
   "outputs": [
    {
     "data": {
      "text/plain": [
       "external_urls    object\n",
       "followers        object\n",
       "genres           object\n",
       "href             object\n",
       "id               object\n",
       "images           object\n",
       "name             object\n",
       "popularity        int64\n",
       "type             object\n",
       "uri              object\n",
       "dtype: object"
      ]
     },
     "execution_count": 61,
     "metadata": {},
     "output_type": "execute_result"
    }
   ],
   "source": [
    "json_df.dtypes"
   ]
  },
  {
   "cell_type": "code",
   "execution_count": 62,
   "metadata": {},
   "outputs": [
    {
     "data": {
      "text/html": [
       "<div>\n",
       "<style scoped>\n",
       "    .dataframe tbody tr th:only-of-type {\n",
       "        vertical-align: middle;\n",
       "    }\n",
       "\n",
       "    .dataframe tbody tr th {\n",
       "        vertical-align: top;\n",
       "    }\n",
       "\n",
       "    .dataframe thead th {\n",
       "        text-align: right;\n",
       "    }\n",
       "</style>\n",
       "<table border=\"1\" class=\"dataframe\">\n",
       "  <thead>\n",
       "    <tr style=\"text-align: right;\">\n",
       "      <th></th>\n",
       "      <th>popularity</th>\n",
       "    </tr>\n",
       "  </thead>\n",
       "  <tbody>\n",
       "    <tr>\n",
       "      <th>count</th>\n",
       "      <td>1737.000000</td>\n",
       "    </tr>\n",
       "    <tr>\n",
       "      <th>mean</th>\n",
       "      <td>73.576857</td>\n",
       "    </tr>\n",
       "    <tr>\n",
       "      <th>std</th>\n",
       "      <td>8.121556</td>\n",
       "    </tr>\n",
       "    <tr>\n",
       "      <th>min</th>\n",
       "      <td>53.000000</td>\n",
       "    </tr>\n",
       "    <tr>\n",
       "      <th>25%</th>\n",
       "      <td>68.000000</td>\n",
       "    </tr>\n",
       "    <tr>\n",
       "      <th>50%</th>\n",
       "      <td>73.000000</td>\n",
       "    </tr>\n",
       "    <tr>\n",
       "      <th>75%</th>\n",
       "      <td>79.000000</td>\n",
       "    </tr>\n",
       "    <tr>\n",
       "      <th>max</th>\n",
       "      <td>100.000000</td>\n",
       "    </tr>\n",
       "  </tbody>\n",
       "</table>\n",
       "</div>"
      ],
      "text/plain": [
       "        popularity\n",
       "count  1737.000000\n",
       "mean     73.576857\n",
       "std       8.121556\n",
       "min      53.000000\n",
       "25%      68.000000\n",
       "50%      73.000000\n",
       "75%      79.000000\n",
       "max     100.000000"
      ]
     },
     "execution_count": 62,
     "metadata": {},
     "output_type": "execute_result"
    }
   ],
   "source": [
    "json_df.describe()"
   ]
  },
  {
   "cell_type": "code",
   "execution_count": 63,
   "metadata": {
    "scrolled": true
   },
   "outputs": [
    {
     "name": "stdout",
     "output_type": "stream",
     "text": [
      "<class 'pandas.core.frame.DataFrame'>\n",
      "RangeIndex: 1737 entries, 0 to 1736\n",
      "Data columns (total 10 columns):\n",
      " #   Column         Non-Null Count  Dtype \n",
      "---  ------         --------------  ----- \n",
      " 0   external_urls  1737 non-null   object\n",
      " 1   followers      1737 non-null   object\n",
      " 2   genres         1737 non-null   object\n",
      " 3   href           1737 non-null   object\n",
      " 4   id             1737 non-null   object\n",
      " 5   images         1737 non-null   object\n",
      " 6   name           1737 non-null   object\n",
      " 7   popularity     1737 non-null   int64 \n",
      " 8   type           1737 non-null   object\n",
      " 9   uri            1737 non-null   object\n",
      "dtypes: int64(1), object(9)\n",
      "memory usage: 135.8+ KB\n"
     ]
    }
   ],
   "source": [
    "json_df.info()"
   ]
  },
  {
   "cell_type": "markdown",
   "metadata": {},
   "source": [
    "Among the 10 atributes, I wont be using 'external_urls','href','type' attributes as they are not useful for my analysis."
   ]
  },
  {
   "cell_type": "code",
   "execution_count": 64,
   "metadata": {},
   "outputs": [],
   "source": [
    "json_df.drop(columns=['external_urls','href','type','uri'], inplace=True)"
   ]
  },
  {
   "cell_type": "code",
   "execution_count": 65,
   "metadata": {
    "scrolled": true
   },
   "outputs": [
    {
     "name": "stdout",
     "output_type": "stream",
     "text": [
      "<class 'pandas.core.frame.DataFrame'>\n",
      "RangeIndex: 1737 entries, 0 to 1736\n",
      "Data columns (total 6 columns):\n",
      " #   Column      Non-Null Count  Dtype \n",
      "---  ------      --------------  ----- \n",
      " 0   followers   1737 non-null   object\n",
      " 1   genres      1737 non-null   object\n",
      " 2   id          1737 non-null   object\n",
      " 3   images      1737 non-null   object\n",
      " 4   name        1737 non-null   object\n",
      " 5   popularity  1737 non-null   int64 \n",
      "dtypes: int64(1), object(5)\n",
      "memory usage: 81.5+ KB\n"
     ]
    }
   ],
   "source": [
    "json_df.info()"
   ]
  },
  {
   "cell_type": "markdown",
   "metadata": {},
   "source": [
    "Renaming columns"
   ]
  },
  {
   "cell_type": "code",
   "execution_count": 66,
   "metadata": {},
   "outputs": [],
   "source": [
    "json_df = json_df.rename(columns = {'followers': 'follower_count', 'popularity':'artist_popularity'}, inplace = False)"
   ]
  },
  {
   "cell_type": "code",
   "execution_count": 67,
   "metadata": {},
   "outputs": [
    {
     "name": "stdout",
     "output_type": "stream",
     "text": [
      "<class 'pandas.core.frame.DataFrame'>\n",
      "RangeIndex: 1737 entries, 0 to 1736\n",
      "Data columns (total 6 columns):\n",
      " #   Column             Non-Null Count  Dtype \n",
      "---  ------             --------------  ----- \n",
      " 0   follower_count     1737 non-null   object\n",
      " 1   genres             1737 non-null   object\n",
      " 2   id                 1737 non-null   object\n",
      " 3   images             1737 non-null   object\n",
      " 4   name               1737 non-null   object\n",
      " 5   artist_popularity  1737 non-null   int64 \n",
      "dtypes: int64(1), object(5)\n",
      "memory usage: 81.5+ KB\n"
     ]
    }
   ],
   "source": [
    "json_df.info()"
   ]
  },
  {
   "cell_type": "markdown",
   "metadata": {},
   "source": [
    "Checking for null values in the datset"
   ]
  },
  {
   "cell_type": "code",
   "execution_count": 68,
   "metadata": {},
   "outputs": [
    {
     "data": {
      "text/plain": [
       "follower_count       False\n",
       "genres               False\n",
       "id                   False\n",
       "images               False\n",
       "name                 False\n",
       "artist_popularity    False\n",
       "dtype: bool"
      ]
     },
     "execution_count": 68,
     "metadata": {},
     "output_type": "execute_result"
    }
   ],
   "source": [
    "json_df.isnull().any()"
   ]
  },
  {
   "cell_type": "markdown",
   "metadata": {},
   "source": [
    "The dataset has no null values."
   ]
  },
  {
   "cell_type": "markdown",
   "metadata": {},
   "source": [
    "The follower_count column is an object type with data in the format {'href': None, 'total':2171677}. Stripping the left and right side values(which is unique throughout the dataset) of the follower_count to use the numbers for our analysis."
   ]
  },
  {
   "cell_type": "code",
   "execution_count": 69,
   "metadata": {},
   "outputs": [],
   "source": [
    "json_df['follower_count'] = json_df['follower_count'].map(lambda x: str(x).lstrip(\"{'href': None, 'total': \").rstrip(\"'}'\")).astype(str)"
   ]
  },
  {
   "cell_type": "code",
   "execution_count": 70,
   "metadata": {},
   "outputs": [
    {
     "data": {
      "text/html": [
       "<div>\n",
       "<style scoped>\n",
       "    .dataframe tbody tr th:only-of-type {\n",
       "        vertical-align: middle;\n",
       "    }\n",
       "\n",
       "    .dataframe tbody tr th {\n",
       "        vertical-align: top;\n",
       "    }\n",
       "\n",
       "    .dataframe thead th {\n",
       "        text-align: right;\n",
       "    }\n",
       "</style>\n",
       "<table border=\"1\" class=\"dataframe\">\n",
       "  <thead>\n",
       "    <tr style=\"text-align: right;\">\n",
       "      <th></th>\n",
       "      <th>follower_count</th>\n",
       "      <th>genres</th>\n",
       "      <th>id</th>\n",
       "      <th>images</th>\n",
       "      <th>name</th>\n",
       "      <th>artist_popularity</th>\n",
       "    </tr>\n",
       "  </thead>\n",
       "  <tbody>\n",
       "    <tr>\n",
       "      <th>0</th>\n",
       "      <td>2183579</td>\n",
       "      <td>[jazz bl...</td>\n",
       "      <td>7G1GBhoK...</td>\n",
       "      <td>[{'heigh...</td>\n",
       "      <td>Nina Simone</td>\n",
       "      <td>74</td>\n",
       "    </tr>\n",
       "    <tr>\n",
       "      <th>1</th>\n",
       "      <td>5466221</td>\n",
       "      <td>[adult s...</td>\n",
       "      <td>43ZHCT0c...</td>\n",
       "      <td>[{'heigh...</td>\n",
       "      <td>Elvis Pr...</td>\n",
       "      <td>82</td>\n",
       "    </tr>\n",
       "    <tr>\n",
       "      <th>2</th>\n",
       "      <td>1395242</td>\n",
       "      <td>[adult s...</td>\n",
       "      <td>293zczrf...</td>\n",
       "      <td>[{'heigh...</td>\n",
       "      <td>Chuck Berry</td>\n",
       "      <td>71</td>\n",
       "    </tr>\n",
       "    <tr>\n",
       "      <th>3</th>\n",
       "      <td>1189881</td>\n",
       "      <td>[adult s...</td>\n",
       "      <td>0iOVhN3t...</td>\n",
       "      <td>[{'heigh...</td>\n",
       "      <td>Etta James</td>\n",
       "      <td>72</td>\n",
       "    </tr>\n",
       "    <tr>\n",
       "      <th>4</th>\n",
       "      <td>404910</td>\n",
       "      <td>[adult s...</td>\n",
       "      <td>3plJVWt8...</td>\n",
       "      <td>[{'heigh...</td>\n",
       "      <td>Ben E. King</td>\n",
       "      <td>69</td>\n",
       "    </tr>\n",
       "  </tbody>\n",
       "</table>\n",
       "</div>"
      ],
      "text/plain": [
       "  follower_count       genres           id       images         name  \\\n",
       "0      2183579    [jazz bl...  7G1GBhoK...  [{'heigh...  Nina Simone   \n",
       "1      5466221    [adult s...  43ZHCT0c...  [{'heigh...  Elvis Pr...   \n",
       "2      1395242    [adult s...  293zczrf...  [{'heigh...  Chuck Berry   \n",
       "3      1189881    [adult s...  0iOVhN3t...  [{'heigh...   Etta James   \n",
       "4       404910    [adult s...  3plJVWt8...  [{'heigh...  Ben E. King   \n",
       "\n",
       "   artist_popularity  \n",
       "0           74        \n",
       "1           82        \n",
       "2           71        \n",
       "3           72        \n",
       "4           69        "
      ]
     },
     "execution_count": 70,
     "metadata": {},
     "output_type": "execute_result"
    }
   ],
   "source": [
    "json_df.head()"
   ]
  },
  {
   "cell_type": "markdown",
   "metadata": {},
   "source": [
    "Now that the data is formatted by removing headers and updating column names, checking for null values(In this case the data looks good with no nulls). I will now check if there are any outliers or bad data"
   ]
  },
  {
   "cell_type": "markdown",
   "metadata": {},
   "source": [
    "Before checking on the outliers I would like to convert the columns 'follower_count' from object type to Integer. "
   ]
  },
  {
   "cell_type": "code",
   "execution_count": 71,
   "metadata": {},
   "outputs": [],
   "source": [
    "json_df['follower_count']=json_df['follower_count'].astype(str).astype(int)"
   ]
  },
  {
   "cell_type": "code",
   "execution_count": 72,
   "metadata": {},
   "outputs": [
    {
     "data": {
      "text/plain": [
       "follower_count        int64\n",
       "genres               object\n",
       "id                   object\n",
       "images               object\n",
       "name                 object\n",
       "artist_popularity     int64\n",
       "dtype: object"
      ]
     },
     "execution_count": 72,
     "metadata": {},
     "output_type": "execute_result"
    }
   ],
   "source": [
    "json_df.dtypes"
   ]
  },
  {
   "cell_type": "markdown",
   "metadata": {},
   "source": [
    "Now that the data is formatted by removing headers and updating column names, and formatting the follower_count. Also there are no duplicate records. "
   ]
  },
  {
   "cell_type": "markdown",
   "metadata": {},
   "source": [
    "I will now check if there are any outliers or bad data"
   ]
  },
  {
   "cell_type": "code",
   "execution_count": 73,
   "metadata": {},
   "outputs": [
    {
     "data": {
      "text/plain": [
       "<AxesSubplot:xlabel='artist_popularity'>"
      ]
     },
     "execution_count": 73,
     "metadata": {},
     "output_type": "execute_result"
    },
    {
     "data": {
      "image/png": "[encoded data removed]",
      "text/plain": [
       "<Figure size 432x288 with 1 Axes>"
      ]
     },
     "metadata": {
      "needs_background": "light"
     },
     "output_type": "display_data"
    }
   ],
   "source": [
    "import seaborn as sns\n",
    "sns.boxplot(x=json_df['artist_popularity'])"
   ]
  },
  {
   "cell_type": "markdown",
   "metadata": {},
   "source": [
    "Above plot for popularity has outliers for popularity greater than 93. Majority of artists has popularity between 70 and 80. "
   ]
  },
  {
   "cell_type": "code",
   "execution_count": 74,
   "metadata": {},
   "outputs": [
    {
     "data": {
      "text/plain": [
       "<AxesSubplot:xlabel='follower_count'>"
      ]
     },
     "execution_count": 74,
     "metadata": {},
     "output_type": "execute_result"
    },
    {
     "data": {
      "image/png": "[encoded data removed]",
      "text/plain": [
       "<Figure size 432x288 with 1 Axes>"
      ]
     },
     "metadata": {
      "needs_background": "light"
     },
     "output_type": "display_data"
    }
   ],
   "source": [
    "import seaborn as sns\n",
    "sns.boxplot(x=json_df['follower_count'])"
   ]
  },
  {
   "cell_type": "markdown",
   "metadata": {},
   "source": [
    "These observations(outliers)for the above plots are not included in the box of other observations. But I wont exclude this data as I plan to analyize the artist's popularity and followers as a basic measure to analyze this."
   ]
  },
  {
   "cell_type": "markdown",
   "metadata": {},
   "source": [
    "Now the data looks good and is ready for the EDA."
   ]
  },
  {
   "cell_type": "markdown",
   "metadata": {},
   "source": [
    "The three dataframes that we load into database are tracks_df,html_df and json_df"
   ]
  },
  {
   "cell_type": "code",
   "execution_count": 75,
   "metadata": {},
   "outputs": [],
   "source": [
    "tracks_df.to_csv ('tracks_df.csv', index = False, header=True)"
   ]
  },
  {
   "cell_type": "code",
   "execution_count": 76,
   "metadata": {},
   "outputs": [],
   "source": [
    "html_df.to_csv ('html_df.csv', index = False, header=True)"
   ]
  },
  {
   "cell_type": "code",
   "execution_count": 77,
   "metadata": {},
   "outputs": [],
   "source": [
    "json_df.to_csv ('json_df.csv', index = False, header=True)"
   ]
  }
 ],
 "metadata": {
  "kernelspec": {
   "display_name": "Python 3",
   "language": "python",
   "name": "python3"
  },
  "language_info": {
   "codemirror_mode": {
    "name": "ipython",
    "version": 3
   },
   "file_extension": ".py",
   "mimetype": "text/x-python",
   "name": "python",
   "nbconvert_exporter": "python",
   "pygments_lexer": "ipython3",
   "version": "3.8.5"
  }
 },
 "nbformat": 4,
 "nbformat_minor": 4
}
